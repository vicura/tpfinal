{
  "nbformat": 4,
  "nbformat_minor": 0,
  "metadata": {
    "colab": {
      "name": "Copia de inputML.ipynb",
      "provenance": [],
      "collapsed_sections": [],
      "mount_file_id": "1L64wncDyLlFsSSRy3n6WCBkUGuHCM2yp",
      "authorship_tag": "ABX9TyPoDKKyn/lLCcM9BNoTqjZZ",
      "include_colab_link": true
    },
    "kernelspec": {
      "display_name": "Python 3",
      "name": "python3"
    },
    "language_info": {
      "name": "python"
    }
  },
  "cells": [
    {
      "cell_type": "markdown",
      "metadata": {
        "id": "view-in-github",
        "colab_type": "text"
      },
      "source": [
        "<a href=\"https://colab.research.google.com/github/vicura/tpfinal/blob/master/Copia_de_inputML.ipynb\" target=\"_parent\"><img src=\"https://colab.research.google.com/assets/colab-badge.svg\" alt=\"Open In Colab\"/></a>"
      ]
    },
    {
      "cell_type": "markdown",
      "metadata": {
        "id": "3AGIQatuheqP"
      },
      "source": [
        "# Prueba ML"
      ]
    },
    {
      "cell_type": "code",
      "metadata": {
        "id": "LG7QeC5enoDc"
      },
      "source": [
        "import numpy as np\n",
        "import matplotlib.pyplot as plt\n",
        "%matplotlib inline\n",
        "import pandas as pd\n",
        "import seaborn as sns\n",
        "from pathlib import Path\n",
        "import os\n",
        "import sys\n",
        "import glob"
      ],
      "execution_count": 1,
      "outputs": []
    },
    {
      "cell_type": "code",
      "metadata": {
        "colab": {
          "base_uri": "https://localhost:8080/"
        },
        "id": "4b4JHppgAZ3o",
        "outputId": "90950472-27fa-4f23-e7e7-ced4fd9b3280"
      },
      "source": [
        "#clono repositorio git \n",
        "\n",
        "!git clone https://github.com/vicura/tpfinal.git\n"
      ],
      "execution_count": 2,
      "outputs": [
        {
          "output_type": "stream",
          "text": [
            "fatal: destination path 'tpfinal' already exists and is not an empty directory.\n"
          ],
          "name": "stdout"
        }
      ]
    },
    {
      "cell_type": "code",
      "metadata": {
        "id": "2OYqbZnNpr20"
      },
      "source": [
        "def create_dataset(DATASET_PATH):\n",
        "\n",
        "  sim = []\n",
        "  data = []\n",
        "  X_data = []\n",
        "  y_data = []\n",
        "  label_sim = []\n",
        "  root_dir = Path(DATASET_PATH)\n",
        "  num = 0\n",
        " \n",
        "  for archivo in root_dir.glob('dump_file*'):\n",
        "    num = num + 1                                       # \"numero de simulacion\"    \n",
        "    with open(archivo, 'r') as f:\n",
        "      coord_sim=[]\n",
        "      label_sim=[]      \n",
        "      if \"2048\\n\" in f.readlines():\n",
        "        f.seek(0,0)\n",
        "        mesof = 'lamelar'\n",
        "        label_sim.append(mesof)\n",
        "        for position, line in enumerate(f):\n",
        "          linea = line.split(' ')                     \n",
        "          if position in range(9,2057): \n",
        "            tipo = int(linea[1])\n",
        "            x = float(linea[2])\n",
        "            y = float(linea[3])\n",
        "            z = float(linea[4])        \n",
        "            sim.append([num,tipo,x,y,z])  \n",
        "            coord_sim.append([tipo,x,y,z])\n",
        " \n",
        "                     \n",
        "          \n",
        "      else:    \n",
        "      #elif \"3594\\n\" in f.readlines():\n",
        "        f.seek(0,0)\n",
        "        mesof = 'hexagonal'\n",
        "        label_sim.append(mesof)        \n",
        "        for position, line in enumerate(f):\n",
        "          linea = line.split(' ')               \n",
        "          \n",
        "          if position in range(9,3593):\n",
        "            tipo = int(linea[1])\n",
        "            x = float(linea[2])\n",
        "            y = float(linea[3])\n",
        "            z = float(linea[4])\n",
        "            sim.append([num,tipo,x,y,z])  \n",
        "            coord_sim.append([tipo,x,y,z])\n",
        "\n",
        "      data.append(sim)              \n",
        "      X_data.append(coord_sim)\n",
        "      y_data.append(label_sim)\n",
        "\n",
        "  X = np.array([np.array(xi) for xi in X_data])\n",
        "  \n",
        "  y = np.array(y_data)\n",
        "  \n",
        "  simdata = []  \n",
        "  label = []\n",
        "  xdata = []\n",
        "  ydata = []\n",
        "  zdata = []\n",
        "  mesofase = []\n",
        "\n",
        "  for n,i in enumerate(data):\n",
        "      for j in i:\n",
        "        simdata.append(j[0])\n",
        "        label.append(j[1])\n",
        "        xdata.append(j[2])\n",
        "        ydata.append(j[3])\n",
        "        zdata.append(j[4])\n",
        "       \n",
        "  \n",
        "  df = pd.DataFrame(data={'sim':simdata,'label':label,'x':xdata, 'y':ydata, 'z':zdata})\n",
        "\n",
        "  return X, y, df"
      ],
      "execution_count": 3,
      "outputs": []
    },
    {
      "cell_type": "code",
      "metadata": {
        "id": "fuP328vXggPe"
      },
      "source": [
        "x_lam, y_lam, lam = create_dataset('/content/tpfinal/lamelar')"
      ],
      "execution_count": null,
      "outputs": []
    },
    {
      "cell_type": "code",
      "metadata": {
        "id": "Waqh1nT5SqEA"
      },
      "source": [
        "x_lam.shape , y_lam.shape"
      ],
      "execution_count": null,
      "outputs": []
    },
    {
      "cell_type": "code",
      "metadata": {
        "id": "T-0G1nAMuz_6"
      },
      "source": [
        "lam"
      ],
      "execution_count": null,
      "outputs": []
    },
    {
      "cell_type": "code",
      "metadata": {
        "id": "yEg5kZy1ob76"
      },
      "source": [
        "n = 6\n",
        "\n",
        "fig = plt.figure()\n",
        "\n",
        "for i in range(1,n):\n",
        "    \n",
        "    simlam = lam[(lam.sim == i)]\n",
        "    fig = plt.figure()\n",
        "    ax = fig.gca(projection='3d')\n",
        "    ax.scatter(simlam.x, simlam.y, simlam.z, c=simlam.label)\n",
        "    \n",
        "    plt.title(str(y_lam[i,0]))\n",
        "    \n",
        "plt.show()"
      ],
      "execution_count": null,
      "outputs": []
    },
    {
      "cell_type": "code",
      "metadata": {
        "id": "RybSi8dB2R6y"
      },
      "source": [
        "x_hex, y_hex, hex = create_dataset('/content/tpfinal/hexagonal')"
      ],
      "execution_count": null,
      "outputs": []
    },
    {
      "cell_type": "code",
      "metadata": {
        "id": "CBXc_Nsbspny"
      },
      "source": [
        "x_hex.shape, y_hex.shape"
      ],
      "execution_count": null,
      "outputs": []
    },
    {
      "cell_type": "code",
      "metadata": {
        "id": "3ovbNUsguvxj"
      },
      "source": [
        "hex"
      ],
      "execution_count": null,
      "outputs": []
    },
    {
      "cell_type": "code",
      "metadata": {
        "id": "0xCP5XXPp-xV"
      },
      "source": [
        "n = 6\n",
        "\n",
        "\n",
        "fig = plt.figure()\n",
        "\n",
        "for i in range(1,n):\n",
        "    \n",
        "    simhex = lam[(hex.sim == i)]\n",
        "    fig = plt.figure()\n",
        "    ax = fig.gca(projection='3d')\n",
        "    ax.scatter(simhex.x, simhex.y, simhex.z, c=simhex.label)\n",
        "    \n",
        "    plt.title(str(y_hex[i,0]))\n",
        "    \n",
        "plt.show()"
      ],
      "execution_count": null,
      "outputs": []
    },
    {
      "cell_type": "code",
      "metadata": {
        "id": "ZkVKhRivw8PO"
      },
      "source": [
        "x_hex2, y_hex2 = x_hex[0:438,:,:], y_hex[0:438,:]"
      ],
      "execution_count": null,
      "outputs": []
    },
    {
      "cell_type": "code",
      "metadata": {
        "id": "IJnVkW7BJdU6"
      },
      "source": [
        "#The stars\n",
        "import tensorflow as tf\n",
        "from tensorflow import keras\n",
        "from tensorflow.keras import layers\n"
      ],
      "execution_count": null,
      "outputs": []
    },
    {
      "cell_type": "code",
      "metadata": {
        "id": "LXR7V1HJJ7J4"
      },
      "source": [
        "np.random.seed(42)\n",
        "tf.random.set_seed(42)"
      ],
      "execution_count": null,
      "outputs": []
    },
    {
      "cell_type": "code",
      "metadata": {
        "id": "L9AxltjTN-mk"
      },
      "source": [
        "#API FUNCIONAL\n",
        "#Definimos primero la entrada lamelar del modelo:\n",
        "\n",
        "input1 = keras.layers.Input(shape=(2047,4,1))     #input lamelar\n",
        "\n",
        "\n",
        "#Luego se instancia cada capa y se aplica como una función a la salida de la capa anterior\n",
        "#capa oculta 1 con 64 neuronas, con función de activación relu \n",
        "\n",
        "ocultal1 = keras.layers.Dense(64,activation='relu')(input1)\n",
        "\n",
        "#capa oculta 2 con 64 neuronas, con función de activación relu \n",
        "\n",
        "ocultal2 = keras.layers.Dense(64, activation='relu')(ocultal1)\n",
        "\n",
        "#capa oculta 3 con 64 neuronas, con función de activación relu \n",
        "\n",
        "ocultal3 = keras.layers.Dense(64,activation='relu')(ocultal2)\n",
        "\n",
        "#capa oculta 4 con 128 neuronas, con función de activación relu \n",
        "\n",
        "ocultal4 = keras.layers.Dense(128,activation='relu')(ocultal3)\n",
        "\n",
        "#capa oculta 5 con 1024 neuronas, con función de activación relu \n",
        "\n",
        "ocultal5 = keras.layers.Dense(1024,activation='relu')(ocultal4)\n",
        "\n",
        "#Cada neurona en la capa pooling está conectada a los outputs de un número limitado de \n",
        "#neuronas en la capa previa. Lo que hace es tomar el máximo valor de la ventana de input definida\n",
        "\n",
        "pool1 = keras.layers.MaxPooling2D(pool_size=(2047, 1))(ocultal5)\n",
        "\n",
        "\n"
      ],
      "execution_count": null,
      "outputs": []
    },
    {
      "cell_type": "code",
      "metadata": {
        "id": "Yy7VQjVqY-Jn"
      },
      "source": [
        "#Definimos la entrada hexagonal del modelo:\n",
        "\n",
        "input2 = keras.layers.Input(shape=(3593,4,1))     #input hexagonal\n",
        "\n",
        "\n",
        "#Luego se instancia cada capa y se aplica como una función a la salida de la capa anterior\n",
        "#capa oculta 1 con 64 neuronas, con función de activación relu \n",
        "\n",
        "ocultah1 = keras.layers.Dense(64,activation='relu')(input2)\n",
        "\n",
        "#capa oculta 2 con 64 neuronas, con función de activación relu \n",
        "\n",
        "ocultah2 = keras.layers.Dense(64, activation='relu')(ocultah1)\n",
        "\n",
        "#capa oculta 3 con 64 neuronas, con función de activación relu \n",
        "\n",
        "ocultah3 = keras.layers.Dense(64,activation='relu')(ocultah2)\n",
        "\n",
        "#capa oculta 4 con 128 neuronas, con función de activación relu \n",
        "\n",
        "ocultah4 = keras.layers.Dense(128,activation='relu')(ocultah3)\n",
        "\n",
        "#capa oculta 5 con 1024 neuronas, con función de activación relu \n",
        "\n",
        "ocultah5 = keras.layers.Dense(1024,activation='relu')(ocultah4)\n",
        "\n",
        "#Cada neurona en la capa pooling está conectada a los outputs de un número limitado de \n",
        "#neuronas en la capa previa. Lo que hace es tomar el máximo valor de la ventana de input definida\n",
        "\n",
        "pool2 = keras.layers.MaxPooling2D(pool_size=(3593, 1))(ocultah5)\n",
        "\n"
      ],
      "execution_count": null,
      "outputs": []
    },
    {
      "cell_type": "code",
      "metadata": {
        "id": "wNpLwFsN-d4c"
      },
      "source": [
        "# Concateno las entradas\n",
        "\n",
        "concat = keras.layers.Concatenate()([pool1, pool2])\n",
        "\n",
        "#capa oculta 6 con 512 neuronas, con función de activación relu \n",
        "\n",
        "hidden1 = keras.layers.Dense(512, activation=\"relu\")(concat)\n",
        "\n",
        "#capa oculta 7 con 256 neuronas, con función de activación relu \n",
        "\n",
        "hidden2 = keras.layers.Dense(256, activation=\"relu\")(hidden1)\n",
        "…#Cuando se haya llegado a las las salidas, podemos definir el modelo:\n",
        "\n",
        "model2 = keras.models.Model(inputs=[input1, input2], outputs=[output1, output2])"
      ],
      "execution_count": null,
      "outputs": []
    },
    {
      "cell_type": "code",
      "metadata": {
        "id": "PtZWDfazajDG"
      },
      "source": [
        "model2.summary()"
      ],
      "execution_count": null,
      "outputs": []
    },
    {
      "cell_type": "code",
      "metadata": {
        "id": "cCsRTuMyaq3C"
      },
      "source": [
        "keras.utils.plot_model(model2, show_shapes=True)"
      ],
      "execution_count": null,
      "outputs": []
    },
    {
      "cell_type": "code",
      "metadata": {
        "id": "w881ibzraz7v"
      },
      "source": [
        "model2.compile(loss=\"sparse_categorical_crossentropy\",\n",
        "              optimizer=\"sgd\",\n",
        "              metrics=[\"accuracy\"])"
      ],
      "execution_count": null,
      "outputs": []
    },
    {
      "cell_type": "code",
      "metadata": {
        "id": "NY-vdHTcz17R"
      },
      "source": [
        "from sklearn.model_selection import train_test_split\n",
        "\n",
        "#Divido Dataframe en 80% entrenamiento y 20 % test\n",
        "\n",
        "X_lam_train_full, X_lam_test,  y_lam_train_full, y_lam_test = train_test_split(x_lam, y_lam , test_size=0.2, random_state=42)\n",
        "X_hex_train_full, X_hex_test,  y_hex_train_full, y_hex_test = train_test_split(x_hex2 , y_hex2 , test_size=0.2, random_state=42)"
      ],
      "execution_count": null,
      "outputs": []
    },
    {
      "cell_type": "code",
      "metadata": {
        "id": "M4HlDb0Szj4K"
      },
      "source": [
        "print(X_lam_train_full.shape, X_lam_test.shape, y_lam_train_full.shape, y_lam_test.shape)\n",
        "print(X_hex_train_full.shape, X_hex_test.shape, y_hex_train_full.shape, y_hex_test.shape)"
      ],
      "execution_count": null,
      "outputs": []
    },
    {
      "cell_type": "code",
      "metadata": {
        "id": "zzux3yCmjuoh"
      },
      "source": [
        "#Divido entrenamiento en 80% entrenamiento y 20 % validación\n",
        "\n",
        "X_lam_train, X_lam_valid,  y_lam_train, y_lam_valid = train_test_split(X_lam_train_full , y_lam_train_full , test_size=0.2, random_state=42, )\n",
        "X_hex_train, X_hex_valid,  y_hex_train, y_hex_valid = train_test_split(X_hex_train_full , y_hex_train_full , test_size=0.2, random_state=42, )"
      ],
      "execution_count": null,
      "outputs": []
    },
    {
      "cell_type": "code",
      "metadata": {
        "id": "b7Q--Y9awFP5"
      },
      "source": [
        "print(X_lam_train.shape, X_lam_valid.shape, y_lam_train.shape, y_lam_valid.shape)\n",
        "print(X_hex_train.shape, X_hex_valid.shape, y_hex_train.shape, y_hex_valid.shape)"
      ],
      "execution_count": null,
      "outputs": []
    },
    {
      "cell_type": "code",
      "metadata": {
        "id": "PoH_HPX3qWCx"
      },
      "source": [
        "from sklearn.preprocessing import OrdinalEncoder\n",
        "enc = OrdinalEncoder()\n",
        "m = [['lamelar'], ['hexagonal']]\n",
        "enc.fit(m)\n",
        "enc.categories"
      ],
      "execution_count": null,
      "outputs": []
    },
    {
      "cell_type": "code",
      "metadata": {
        "id": "Mf5COK0lspip"
      },
      "source": [
        "#Encode categorical features as an integer array.\n",
        "\n",
        "y_lam_t = enc.transform(y_lam_train)\n",
        "y_lam_v = enc.transform(y_lam_valid)\n",
        "\n",
        "y_hex_t = enc.transform(y_hex_train)\n",
        "y_hex_v = enc.transform(y_hex_valid)"
      ],
      "execution_count": null,
      "outputs": []
    },
    {
      "cell_type": "code",
      "metadata": {
        "id": "PAtOimg-a-a3"
      },
      "source": [
        "#Reshape\n",
        "\n",
        "X_lam_t = X_lam_train.reshape(-1, 2047, 4, 1)\n",
        "X_lam_v = X_lam_valid.reshape(-1, 2047, 4, 1)\n",
        "\n",
        "X_hex_t = X_hex_train.reshape(-1, 3593, 4, 1)\n",
        "X_hex_v = X_hex_valid.reshape(-1, 3593, 4, 1)\n"
      ],
      "execution_count": null,
      "outputs": []
    },
    {
      "cell_type": "code",
      "metadata": {
        "id": "JhPxE14-5S-C"
      },
      "source": [
        "print(X_lam_t.shape, X_lam_v.shape, y_lam_t.shape, y_lam_v.shape)\n",
        "print(X_hex_t.shape, X_hex_v.shape, y_hex_t.shape, y_hex_v.shape)"
      ],
      "execution_count": null,
      "outputs": []
    },
    {
      "cell_type": "code",
      "metadata": {
        "id": "yrdOpeHm1YcM"
      },
      "source": [
        "history = model2.fit([X_lam_t,X_hex_t], [y_lam_t,y_hex_t], epochs=100, batch_size=64, \n",
        "                     validation_data=([X_lam_v, X_hex_v], [y_lam_v,y_hex_v]))"
      ],
      "execution_count": null,
      "outputs": []
    },
    {
      "cell_type": "code",
      "metadata": {
        "id": "7cycJfkN0pH-"
      },
      "source": [
        ""
      ],
      "execution_count": null,
      "outputs": []
    }
  ]
}