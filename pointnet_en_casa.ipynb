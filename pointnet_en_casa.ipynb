{
 "cells": [
  {
   "cell_type": "code",
   "execution_count": 1,
   "id": "9f13b617",
   "metadata": {},
   "outputs": [],
   "source": [
    "import os\n",
    "os.environ['TF_CPP_MIN_LOG_LEVEL'] = '3'"
   ]
  },
  {
   "cell_type": "code",
   "execution_count": 2,
   "id": "9775e3bf",
   "metadata": {},
   "outputs": [],
   "source": [
    "os.environ[\"CUDA_DEVICE_ORDER\"]=\"PCI_BUS_ID\" \n",
    "os.environ[\"CUDA_VISIBLE_DEVICES\"]=\"0\"\n",
    "\n",
    "from tensorflow.python.client import device_lib"
   ]
  },
  {
   "cell_type": "code",
   "execution_count": 3,
   "id": "912db563",
   "metadata": {},
   "outputs": [],
   "source": [
    "import matplotlib.pyplot as plt\n",
    "%matplotlib inline"
   ]
  },
  {
   "cell_type": "code",
   "execution_count": 4,
   "id": "121da428",
   "metadata": {},
   "outputs": [
    {
     "name": "stdout",
     "output_type": "stream",
     "text": [
      "TensorFlow Version: 2.9.1\n",
      "GPU Available: []\n"
     ]
    }
   ],
   "source": [
    "from __future__ import absolute_import, division, print_function, unicode_literals\n",
    "\n",
    "try:\n",
    "  # %tensorflow_version only exists in Colab.\n",
    "  %tensorflow_version 2.x\n",
    "except Exception:\n",
    "  pass\n",
    "\n",
    "import tensorflow as tf\n",
    "print(\"TensorFlow Version:\", tf.__version__)\n",
    "#print(\"GPU Available:\", tf.test.is_gpu_available())\n",
    "print(\"GPU Available:\", tf.config.list_physical_devices('GPU'))\n",
    "\n",
    "tf.keras.backend.clear_session()  # For easy reset of notebook state."
   ]
  },
  {
   "cell_type": "code",
   "execution_count": 5,
   "id": "4c654a4e",
   "metadata": {},
   "outputs": [],
   "source": [
    "import tensorflow.python.util.deprecation as deprecation\n",
    "deprecation._PRINT_DEPRECATION_WARNINGS = False"
   ]
  },
  {
   "cell_type": "code",
   "execution_count": 6,
   "id": "deb14226",
   "metadata": {},
   "outputs": [
    {
     "name": "stdout",
     "output_type": "stream",
     "text": [
      "running build_ext\r\n"
     ]
    }
   ],
   "source": [
    "!python3 setup.py build_ext --inplace  "
   ]
  },
  {
   "cell_type": "code",
   "execution_count": 10,
   "id": "6f198391",
   "metadata": {},
   "outputs": [
    {
     "name": "stdout",
     "output_type": "stream",
     "text": [
      "/home/victoria/miniconda3/envs/pointnet/lib/python3.10/site-packages/MDAnalysis/topology/LAMMPSParser.py:631: UserWarning: Guessed all Masses to 1.0\n",
      "  warnings.warn('Guessed all Masses to 1.0')\n",
      "/home/victoria/Documentos/ML/pre_entrenamiento.py:111: DeprecationWarning: `np.int` is a deprecated alias for the builtin `int`. To silence this warning, use `int` by itself. Doing this will not modify any behavior and is safe. When replacing `np.int`, you may wish to use e.g. `np.int64` or `np.int32` to specify the precision. If you wish to review your current use, check the release note link for additional information.\n",
      "Deprecated in NumPy 1.20; for more details and guidance: https://numpy.org/devdocs/release/1.20.0-notes.html#deprecations\n",
      "  nlist = nsgrid.FastNS(args.cutoff*1.0,u.atoms.positions,ts.dimensions).search(u.atoms[sel].positions)\n",
      "Total number of available samples for class lam: 8020\n",
      "Total number of available samples for class lam_ord: 8020\n",
      "Total number of available samples for class desord: 8020\n"
     ]
    }
   ],
   "source": [
    "!python3 pre_entrenamiento.py --path '.' --out_name 'prueba_cutoff_3_maxneigh_250' --cutoff 3.0 --max_neigh 250 --n_samples 8020"
   ]
  },
  {
   "cell_type": "code",
   "execution_count": null,
   "id": "dd18d447",
   "metadata": {},
   "outputs": [
    {
     "name": "stdout",
     "output_type": "stream",
     "text": [
      "train shape: (15398, 250, 3, 1)\n",
      "label shape: (15398, 3)\n",
      "valid shape: (3850, 250, 3, 1)\n",
      "label shape: (3850, 3)\n",
      "Train on 15398 samples, validate on 3850 samples\n",
      "Epoch 1/2\n",
      " 7424/15398 [=============>................] - ETA: 5:14 - loss: 0.4260 - accuracy: 0.8161"
     ]
    }
   ],
   "source": [
    "!python3 entrenamiento.py --dataset prueba_cutoff_3_maxneigh_250_scaled_shuffled_equal_samples.npy --labels prueba_cutoff_3_maxneigh_250_scaled_shuffled_equal_labels.npy  --batch_size 32 --nepochs 2"
   ]
  },
  {
   "cell_type": "code",
   "execution_count": 23,
   "id": "322f455f",
   "metadata": {},
   "outputs": [],
   "source": [
    "from red_puntos import PointNet"
   ]
  },
  {
   "cell_type": "code",
   "execution_count": 6,
   "id": "2a79d96c",
   "metadata": {},
   "outputs": [],
   "source": [
    "from sklearn.model_selection import train_test_split\n",
    "import numpy as np\n",
    "import tensorflow as tf\n",
    "import os\n",
    "from tensorflow import keras\n",
    "from keras.models import Sequential\n",
    "from keras.layers import Dense, Flatten, Dropout\n",
    "from keras.layers import Conv2D, MaxPooling2D"
   ]
  },
  {
   "cell_type": "code",
   "execution_count": 5,
   "id": "fc407240",
   "metadata": {},
   "outputs": [],
   "source": [
    "data = np.load('prueba_cutoff_3_maxneigh_250_scaled_shuffled_equal_samples.npy')\n",
    "labels = np.load('prueba_cutoff_3_maxneigh_250_scaled_shuffled_equal_labels.npy')"
   ]
  },
  {
   "cell_type": "code",
   "execution_count": 21,
   "id": "c8d6a789",
   "metadata": {},
   "outputs": [
    {
     "data": {
      "text/plain": [
       "3"
      ]
     },
     "execution_count": 21,
     "metadata": {},
     "output_type": "execute_result"
    }
   ],
   "source": [
    "labels.shape[-1]"
   ]
  },
  {
   "cell_type": "code",
   "execution_count": 6,
   "id": "7477cbd6",
   "metadata": {},
   "outputs": [
    {
     "name": "stdout",
     "output_type": "stream",
     "text": [
      "train shape: (15398, 250, 3, 1)\n",
      "label shape: (15398, 3)\n",
      "valid shape: (3850, 250, 3, 1)\n",
      "label shape: (3850, 3)\n"
     ]
    }
   ],
   "source": [
    "a,b,c = data.shape\n",
    "point_cloud_samples = data.reshape(a,b,c,-1)     \n",
    "\n",
    "             \n",
    "   # split data\n",
    "full_train_samples,test_samples,full_train_labels,test_labels = train_test_split(point_cloud_samples, labels, test_size=0.2, random_state=13)\n",
    "train_samples,valid_samples,train_labels,valid_labels = train_test_split(full_train_samples, full_train_labels, test_size=0.2, random_state=13)\n",
    "\n",
    "print('train shape: ' + str(train_samples.shape))\n",
    "print('label shape: ' + str(train_labels.shape))\n",
    "print('valid shape: ' + str(valid_samples.shape))\n",
    "print('label shape: ' + str(valid_labels.shape))"
   ]
  },
  {
   "cell_type": "code",
   "execution_count": 24,
   "id": "377e4a38",
   "metadata": {},
   "outputs": [
    {
     "data": {
      "text/plain": [
       "(250, 3, 1)"
      ]
     },
     "execution_count": 24,
     "metadata": {},
     "output_type": "execute_result"
    }
   ],
   "source": [
    "train_samples[1].shape"
   ]
  },
  {
   "cell_type": "code",
   "execution_count": 7,
   "id": "53b840fb",
   "metadata": {},
   "outputs": [],
   "source": [
    "net = PointNet(epochs=50,\n",
    "              batch_size=16,\n",
    "              lr=0.001)"
   ]
  },
  {
   "cell_type": "code",
   "execution_count": 8,
   "id": "55b2a7a3",
   "metadata": {},
   "outputs": [],
   "source": [
    "red = net.defino_red(1e-5,0.3,3,(250, 3, 1))"
   ]
  },
  {
   "cell_type": "code",
   "execution_count": 9,
   "id": "5ae9f0a0",
   "metadata": {},
   "outputs": [
    {
     "name": "stdout",
     "output_type": "stream",
     "text": [
      "Model: \"sequential\"\n",
      "_________________________________________________________________\n",
      " Layer (type)                Output Shape              Param #   \n",
      "=================================================================\n",
      " conv2d (Conv2D)             (None, 250, 3, 64)        256       \n",
      "                                                                 \n",
      " conv2d_1 (Conv2D)           (None, 250, 3, 64)        4160      \n",
      "                                                                 \n",
      " conv2d_2 (Conv2D)           (None, 250, 3, 64)        4160      \n",
      "                                                                 \n",
      " conv2d_3 (Conv2D)           (None, 250, 3, 128)       8320      \n",
      "                                                                 \n",
      " conv2d_4 (Conv2D)           (None, 250, 3, 1024)      132096    \n",
      "                                                                 \n",
      " max_pooling2d (MaxPooling2D  (None, 125, 2, 1024)     0         \n",
      " )                                                               \n",
      "                                                                 \n",
      " flatten (Flatten)           (None, 256000)            0         \n",
      "                                                                 \n",
      " dense (Dense)               (None, 512)               131072512 \n",
      "                                                                 \n",
      " dense_1 (Dense)             (None, 256)               131328    \n",
      "                                                                 \n",
      " dropout (Dropout)           (None, 256)               0         \n",
      "                                                                 \n",
      " dense_2 (Dense)             (None, 3)                 771       \n",
      "                                                                 \n",
      "=================================================================\n",
      "Total params: 131,353,603\n",
      "Trainable params: 131,353,603\n",
      "Non-trainable params: 0\n",
      "_________________________________________________________________\n"
     ]
    }
   ],
   "source": [
    "red.summary()"
   ]
  },
  {
   "cell_type": "code",
   "execution_count": 10,
   "id": "fd68da1b",
   "metadata": {},
   "outputs": [
    {
     "ename": "AttributeError",
     "evalue": "'Sequential' object has no attribute 'entreno'",
     "output_type": "error",
     "traceback": [
      "\u001b[0;31m---------------------------------------------------------------------------\u001b[0m",
      "\u001b[0;31mAttributeError\u001b[0m                            Traceback (most recent call last)",
      "Input \u001b[0;32mIn [10]\u001b[0m, in \u001b[0;36m<cell line: 1>\u001b[0;34m()\u001b[0m\n\u001b[0;32m----> 1\u001b[0m red_entreno \u001b[38;5;241m=\u001b[39m \u001b[43mred\u001b[49m\u001b[38;5;241;43m.\u001b[39;49m\u001b[43mentreno\u001b[49m(train_samples, train_labels, valid_samples, valid_labels, \u001b[38;5;241m16\u001b[39m, \u001b[38;5;241m5\u001b[39m)\n",
      "\u001b[0;31mAttributeError\u001b[0m: 'Sequential' object has no attribute 'entreno'"
     ]
    }
   ],
   "source": [
    "red_entreno = red.entreno(train_samples, train_labels, valid_samples, valid_labels, 16, 5)"
   ]
  },
  {
   "cell_type": "code",
   "execution_count": 8,
   "id": "0eb82cc9",
   "metadata": {},
   "outputs": [
    {
     "name": "stderr",
     "output_type": "stream",
     "text": [
      "2022-08-26 09:59:25.113125: W tensorflow/core/framework/cpu_allocator_impl.cc:82] Allocation of 524288000 exceeds 10% of free system memory.\n",
      "2022-08-26 09:59:25.423975: W tensorflow/core/framework/cpu_allocator_impl.cc:82] Allocation of 524288000 exceeds 10% of free system memory.\n"
     ]
    }
   ],
   "source": [
    "PointNet = Sequential()\n",
    "PointNet.add(Conv2D(64, kernel_size=(1,3), activation= 'relu',\n",
    "                             padding='same', \n",
    "                            #activity_regularizer=keras.regularizers.l2(1e-5),\n",
    "                            kernel_regularizer=keras.regularizers.l2(1e-5),\n",
    "                            input_shape = (250, 3, 1)))\n",
    "PointNet.add(Conv2D(64, kernel_size=(1,1), activation= 'relu',\n",
    "                            #is_training=is_training,\n",
    "                            #activity_regularizer=keras.regularizers.l2(1e-5),\n",
    "                            kernel_regularizer=keras.regularizers.l2(1e-5),\n",
    "                            padding='same'))\n",
    "PointNet.add(Conv2D(64, kernel_size=(1,1), activation= 'relu',\n",
    "                            #is_training=is_training,\n",
    "                            #activity_regularizer=keras.regularizers.l2(1e-5),\n",
    "                            kernel_regularizer=keras.regularizers.l2(1e-5),\n",
    "                            padding='same'))\n",
    "PointNet.add(Conv2D(128, kernel_size=(1,1), activation= 'relu',\n",
    "                           # is_training=is_training,\n",
    "                            #activity_regularizer=keras.regularizers.l2(1e-5),\n",
    "                            kernel_regularizer=keras.regularizers.l2(1e-5),\n",
    "                            padding='same'))\n",
    "PointNet.add(Conv2D(1024, kernel_size=(1,1), activation= 'relu',\n",
    "                            #is_training=is_training,\n",
    "                            #activity_regularizer=keras.regularizers.l2(1e-5),\n",
    "                            kernel_regularizer=keras.regularizers.l2(1e-5),\n",
    "                            padding='same'))\n",
    "\n",
    "        # Symmetric function: max pooling\n",
    "PointNet.add(MaxPooling2D(pool_size=(2,2), strides=(2,2),\n",
    "                                 padding='same'))\n",
    "        \n",
    "        # MLP on global point cloud vector\n",
    "        \n",
    "PointNet.add(Flatten())\n",
    "PointNet.add(Dense(512, activation='relu',#is_training=is_training,\n",
    "                           #activity_regularizer=keras.regularizers.l2(1e-5),\n",
    "                           kernel_regularizer=keras.regularizers.l2(1e-5)))\n",
    "PointNet.add(Dense(256, activation= 'relu',#is_training=is_training,\n",
    "                           #activity_regularizer=keras.regularizers.l2(1e-5),\n",
    "                           kernel_regularizer=keras.regularizers.l2(1e-5)))\n",
    "PointNet.add(Dropout(rate=0.3))\n",
    "PointNet.add(Dense(3, activation='softmax'))\n",
    "\n",
    "PointNet.compile(loss=keras.losses.categorical_crossentropy, optimizer= tf.keras.optimizers.Adam(),metrics=['accuracy'])\n"
   ]
  },
  {
   "cell_type": "code",
   "execution_count": 5,
   "id": "b3f9a25f",
   "metadata": {},
   "outputs": [
    {
     "data": {
      "text/plain": [
       "[]"
      ]
     },
     "execution_count": 5,
     "metadata": {},
     "output_type": "execute_result"
    }
   ],
   "source": [
    "tf.config.list_physical_devices('GPU')"
   ]
  },
  {
   "cell_type": "code",
   "execution_count": 9,
   "id": "b2d21b0f",
   "metadata": {},
   "outputs": [
    {
     "name": "stdout",
     "output_type": "stream",
     "text": [
      "Model: \"sequential_1\"\n",
      "_________________________________________________________________\n",
      " Layer (type)                Output Shape              Param #   \n",
      "=================================================================\n",
      " conv2d_5 (Conv2D)           (None, 250, 3, 64)        256       \n",
      "                                                                 \n",
      " conv2d_6 (Conv2D)           (None, 250, 3, 64)        4160      \n",
      "                                                                 \n",
      " conv2d_7 (Conv2D)           (None, 250, 3, 64)        4160      \n",
      "                                                                 \n",
      " conv2d_8 (Conv2D)           (None, 250, 3, 128)       8320      \n",
      "                                                                 \n",
      " conv2d_9 (Conv2D)           (None, 250, 3, 1024)      132096    \n",
      "                                                                 \n",
      " max_pooling2d_1 (MaxPooling  (None, 125, 2, 1024)     0         \n",
      " 2D)                                                             \n",
      "                                                                 \n",
      " flatten_1 (Flatten)         (None, 256000)            0         \n",
      "                                                                 \n",
      " dense_3 (Dense)             (None, 512)               131072512 \n",
      "                                                                 \n",
      " dense_4 (Dense)             (None, 256)               131328    \n",
      "                                                                 \n",
      " dropout_1 (Dropout)         (None, 256)               0         \n",
      "                                                                 \n",
      " dense_5 (Dense)             (None, 3)                 771       \n",
      "                                                                 \n",
      "=================================================================\n",
      "Total params: 131,353,603\n",
      "Trainable params: 131,353,603\n",
      "Non-trainable params: 0\n",
      "_________________________________________________________________\n"
     ]
    }
   ],
   "source": [
    "PointNet.summary()"
   ]
  },
  {
   "cell_type": "code",
   "execution_count": 10,
   "id": "a7f07ad9",
   "metadata": {},
   "outputs": [],
   "source": [
    "from keras.callbacks import ModelCheckpoint, EarlyStopping\n",
    "\n",
    "early_stop = EarlyStopping(monitor='val_accuracy',\n",
    "                           patience=10,\n",
    "                           restore_best_weights=True,\n",
    "                           mode='max')\n"
   ]
  },
  {
   "cell_type": "code",
   "execution_count": 11,
   "id": "62c86c57",
   "metadata": {},
   "outputs": [
    {
     "name": "stdout",
     "output_type": "stream",
     "text": [
      "482/482 [==============================] - 790s 2s/step - loss: 0.1354 - accuracy: 0.9573 - val_loss: 0.0962 - val_accuracy: 0.9771\n"
     ]
    }
   ],
   "source": [
    "PointNet_train = PointNet.fit(train_samples, train_labels, \n",
    "        callbacks=[early_stop], validation_data=(valid_samples, valid_labels))"
   ]
  },
  {
   "cell_type": "code",
   "execution_count": 9,
   "id": "6063aae8",
   "metadata": {},
   "outputs": [
    {
     "ename": "NameError",
     "evalue": "name 'keras' is not defined",
     "output_type": "error",
     "traceback": [
      "\u001b[0;31m---------------------------------------------------------------------------\u001b[0m",
      "\u001b[0;31mNameError\u001b[0m                                 Traceback (most recent call last)",
      "Input \u001b[0;32mIn [9]\u001b[0m, in \u001b[0;36m<cell line: 1>\u001b[0;34m()\u001b[0m\n\u001b[0;32m----> 1\u001b[0m red \u001b[38;5;241m=\u001b[39m  \u001b[43mkeras\u001b[49m\u001b[38;5;241m.\u001b[39mmodels\u001b[38;5;241m.\u001b[39mload_model(\u001b[38;5;124m\"\u001b[39m\u001b[38;5;124mpointnet_modelo_entrenado.h5\u001b[39m\u001b[38;5;124m\"\u001b[39m)\n",
      "\u001b[0;31mNameError\u001b[0m: name 'keras' is not defined"
     ]
    }
   ],
   "source": [
    "red =  keras.models.load_model(\"pointnet_modelo_entrenado.h5\") "
   ]
  }
 ],
 "metadata": {
  "kernelspec": {
   "display_name": "Python 3 (ipykernel)",
   "language": "python",
   "name": "python3"
  },
  "language_info": {
   "codemirror_mode": {
    "name": "ipython",
    "version": 3
   },
   "file_extension": ".py",
   "mimetype": "text/x-python",
   "name": "python",
   "nbconvert_exporter": "python",
   "pygments_lexer": "ipython3",
   "version": "3.10.6"
  }
 },
 "nbformat": 4,
 "nbformat_minor": 5
}
