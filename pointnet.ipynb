{
  "nbformat": 4,
  "nbformat_minor": 0,
  "metadata": {
    "colab": {
      "name": "pointnet.ipynb",
      "provenance": [],
      "collapsed_sections": [],
      "authorship_tag": "ABX9TyNGibN+R2NlJSCeKokt3juT",
      "include_colab_link": true
    },
    "kernelspec": {
      "name": "python3",
      "display_name": "Python 3"
    },
    "language_info": {
      "name": "python"
    }
  },
  "cells": [
    {
      "cell_type": "markdown",
      "metadata": {
        "id": "view-in-github",
        "colab_type": "text"
      },
      "source": [
        "<a href=\"https://colab.research.google.com/github/vicura/tpfinal/blob/master/pointnet.ipynb\" target=\"_parent\"><img src=\"https://colab.research.google.com/assets/colab-badge.svg\" alt=\"Open In Colab\"/></a>"
      ]
    },
    {
      "cell_type": "code",
      "metadata": {
        "colab": {
          "base_uri": "https://localhost:8080/"
        },
        "id": "ublNttBgwYn6",
        "outputId": "81a82161-ce9e-4035-8565-9f32d7e2407f"
      },
      "source": [
        "!pip3 install pandas\n",
        "!pip3 install tqdm\n",
        "!pip3 install numpy\n",
        "!pip3 install opencv_python\n",
        "!pip3 install plyfile\n",
        "!pip3 install MDAnalysis\n",
        "!pip3 install networkx==2.3"
      ],
      "execution_count": null,
      "outputs": [
        {
          "output_type": "stream",
          "name": "stdout",
          "text": [
            "Requirement already satisfied: pandas in /usr/local/lib/python3.7/dist-packages (1.1.5)\n",
            "Requirement already satisfied: python-dateutil>=2.7.3 in /usr/local/lib/python3.7/dist-packages (from pandas) (2.8.2)\n",
            "Requirement already satisfied: numpy>=1.15.4 in /usr/local/lib/python3.7/dist-packages (from pandas) (1.19.5)\n",
            "Requirement already satisfied: pytz>=2017.2 in /usr/local/lib/python3.7/dist-packages (from pandas) (2018.9)\n",
            "Requirement already satisfied: six>=1.5 in /usr/local/lib/python3.7/dist-packages (from python-dateutil>=2.7.3->pandas) (1.15.0)\n",
            "Requirement already satisfied: tqdm in /usr/local/lib/python3.7/dist-packages (4.62.3)\n",
            "Requirement already satisfied: numpy in /usr/local/lib/python3.7/dist-packages (1.19.5)\n",
            "Requirement already satisfied: opencv_python in /usr/local/lib/python3.7/dist-packages (4.1.2.30)\n",
            "Requirement already satisfied: numpy>=1.14.5 in /usr/local/lib/python3.7/dist-packages (from opencv_python) (1.19.5)\n",
            "Requirement already satisfied: plyfile in /usr/local/lib/python3.7/dist-packages (0.7.4)\n",
            "Requirement already satisfied: numpy>=1.8 in /usr/local/lib/python3.7/dist-packages (from plyfile) (1.19.5)\n",
            "Requirement already satisfied: MDAnalysis in /usr/local/lib/python3.7/dist-packages (2.0.0)\n",
            "Requirement already satisfied: threadpoolctl in /usr/local/lib/python3.7/dist-packages (from MDAnalysis) (3.0.0)\n",
            "Requirement already satisfied: matplotlib>=1.5.1 in /usr/local/lib/python3.7/dist-packages (from MDAnalysis) (3.2.2)\n",
            "Requirement already satisfied: mmtf-python>=1.0.0 in /usr/local/lib/python3.7/dist-packages (from MDAnalysis) (1.1.2)\n",
            "Requirement already satisfied: networkx>=1.0 in /usr/local/lib/python3.7/dist-packages (from MDAnalysis) (2.3)\n",
            "Requirement already satisfied: gsd>=1.4.0 in /usr/local/lib/python3.7/dist-packages (from MDAnalysis) (2.5.0)\n",
            "Requirement already satisfied: biopython>=1.71 in /usr/local/lib/python3.7/dist-packages (from MDAnalysis) (1.79)\n",
            "Requirement already satisfied: GridDataFormats>=0.4.0 in /usr/local/lib/python3.7/dist-packages (from MDAnalysis) (0.6.0)\n",
            "Requirement already satisfied: joblib>=0.12 in /usr/local/lib/python3.7/dist-packages (from MDAnalysis) (1.0.1)\n",
            "Requirement already satisfied: numpy>=1.16.0 in /usr/local/lib/python3.7/dist-packages (from MDAnalysis) (1.19.5)\n",
            "Requirement already satisfied: scipy>=1.0.0 in /usr/local/lib/python3.7/dist-packages (from MDAnalysis) (1.4.1)\n",
            "Requirement already satisfied: tqdm>=4.43.0 in /usr/local/lib/python3.7/dist-packages (from MDAnalysis) (4.62.3)\n",
            "Requirement already satisfied: six in /usr/local/lib/python3.7/dist-packages (from GridDataFormats>=0.4.0->MDAnalysis) (1.15.0)\n",
            "Requirement already satisfied: python-dateutil>=2.1 in /usr/local/lib/python3.7/dist-packages (from matplotlib>=1.5.1->MDAnalysis) (2.8.2)\n",
            "Requirement already satisfied: cycler>=0.10 in /usr/local/lib/python3.7/dist-packages (from matplotlib>=1.5.1->MDAnalysis) (0.10.0)\n",
            "Requirement already satisfied: pyparsing!=2.0.4,!=2.1.2,!=2.1.6,>=2.0.1 in /usr/local/lib/python3.7/dist-packages (from matplotlib>=1.5.1->MDAnalysis) (2.4.7)\n",
            "Requirement already satisfied: kiwisolver>=1.0.1 in /usr/local/lib/python3.7/dist-packages (from matplotlib>=1.5.1->MDAnalysis) (1.3.2)\n",
            "Requirement already satisfied: msgpack>=0.5.6 in /usr/local/lib/python3.7/dist-packages (from mmtf-python>=1.0.0->MDAnalysis) (1.0.2)\n",
            "Requirement already satisfied: decorator>=4.3.0 in /usr/local/lib/python3.7/dist-packages (from networkx>=1.0->MDAnalysis) (4.4.2)\n",
            "Requirement already satisfied: networkx==2.3 in /usr/local/lib/python3.7/dist-packages (2.3)\n",
            "Requirement already satisfied: decorator>=4.3.0 in /usr/local/lib/python3.7/dist-packages (from networkx==2.3) (4.4.2)\n"
          ]
        }
      ]
    },
    {
      "cell_type": "code",
      "metadata": {
        "colab": {
          "base_uri": "https://localhost:8080/"
        },
        "id": "EyyP3KBZ02PR",
        "outputId": "947ebbd9-5283-4d9a-9918-e5603f3a2aae"
      },
      "source": [
        "!git clone https://github.com/vicura/tpfinal.git"
      ],
      "execution_count": null,
      "outputs": [
        {
          "output_type": "stream",
          "name": "stdout",
          "text": [
            "Cloning into 'tpfinal'...\n",
            "remote: Enumerating objects: 1205, done.\u001b[K\n",
            "remote: Counting objects: 100% (1205/1205), done.\u001b[K\n",
            "remote: Compressing objects: 100% (1171/1171), done.\u001b[K\n",
            "remote: Total 1205 (delta 115), reused 1085 (delta 34), pack-reused 0\u001b[K\n",
            "Receiving objects: 100% (1205/1205), 82.25 MiB | 20.27 MiB/s, done.\n",
            "Resolving deltas: 100% (115/115), done.\n",
            "Checking out files: 100% (1027/1027), done.\n"
          ]
        }
      ]
    },
    {
      "cell_type": "code",
      "metadata": {
        "id": "cxlRdvCR1vdf"
      },
      "source": [
        "import numpy as np\n",
        "import matplotlib.pyplot as plt\n",
        "%matplotlib inline\n",
        "import pandas as pd\n",
        "import seaborn as sns\n",
        "from pathlib import Path\n",
        "import os\n",
        "import sys\n",
        "import glob\n",
        "import MDAnalysis as mda\n",
        "import argparse"
      ],
      "execution_count": null,
      "outputs": []
    },
    {
      "cell_type": "code",
      "metadata": {
        "id": "a-Ol0pHV13L6"
      },
      "source": [
        "os.chdir('/content/tpfinal')"
      ],
      "execution_count": null,
      "outputs": []
    },
    {
      "cell_type": "code",
      "metadata": {
        "colab": {
          "base_uri": "https://localhost:8080/"
        },
        "id": "V-rprOuw14vl",
        "outputId": "4319436a-01c4-481d-9fea-f8a1900bcda8"
      },
      "source": [
        "!python3 setup.py build_ext --inplace  "
      ],
      "execution_count": null,
      "outputs": [
        {
          "output_type": "stream",
          "name": "stdout",
          "text": [
            "Compiling nsgrid_rsd.pyx because it changed.\n",
            "[1/1] Cythonizing nsgrid_rsd.pyx\n",
            "/usr/local/lib/python3.7/dist-packages/Cython/Compiler/Main.py:369: FutureWarning: Cython directive 'language_level' not set, using 2 for now (Py2). This will change in a later release! File: /content/tpfinal/nsgrid_rsd.pyx\n",
            "  tree = Parsing.p_module(s, pxd, full_module_name)\n",
            "warning: nsgrid_rsd.pyx:110:45: Use boundscheck(False) for faster access\n",
            "warning: nsgrid_rsd.pyx:116:26: Use boundscheck(False) for faster access\n",
            "warning: nsgrid_rsd.pyx:121:44: Use boundscheck(False) for faster access\n",
            "warning: nsgrid_rsd.pyx:129:77: Use boundscheck(False) for faster access\n",
            "warning: nsgrid_rsd.pyx:129:44: Use boundscheck(False) for faster access\n",
            "warning: nsgrid_rsd.pyx:130:53: Use boundscheck(False) for faster access\n",
            "warning: nsgrid_rsd.pyx:136:17: Use boundscheck(False) for faster access\n",
            "warning: nsgrid_rsd.pyx:137:14: Use boundscheck(False) for faster access\n",
            "warning: nsgrid_rsd.pyx:138:22: Use boundscheck(False) for faster access\n",
            "warning: nsgrid_rsd.pyx:140:22: Use boundscheck(False) for faster access\n",
            "warning: nsgrid_rsd.pyx:142:46: Use boundscheck(False) for faster access\n",
            "warning: nsgrid_rsd.pyx:142:24: Use boundscheck(False) for faster access\n",
            "warning: nsgrid_rsd.pyx:239:41: Use boundscheck(False) for faster access\n",
            "warning: nsgrid_rsd.pyx:241:43: Use boundscheck(False) for faster access\n",
            "warning: nsgrid_rsd.pyx:242:41: Use boundscheck(False) for faster access\n",
            "warning: nsgrid_rsd.pyx:244:43: Use boundscheck(False) for faster access\n",
            "warning: nsgrid_rsd.pyx:248:41: Use boundscheck(False) for faster access\n",
            "warning: nsgrid_rsd.pyx:249:39: Use boundscheck(False) for faster access\n",
            "warning: nsgrid_rsd.pyx:250:41: Use boundscheck(False) for faster access\n",
            "warning: nsgrid_rsd.pyx:251:39: Use boundscheck(False) for faster access\n",
            "warning: nsgrid_rsd.pyx:652:26: Use boundscheck(False) for faster access\n",
            "warning: nsgrid_rsd.pyx:657:53: Use boundscheck(False) for faster access\n",
            "warning: nsgrid_rsd.pyx:676:74: Use boundscheck(False) for faster access\n",
            "warning: nsgrid_rsd.pyx:677:26: Use boundscheck(False) for faster access\n",
            "warning: nsgrid_rsd.pyx:865:57: Use boundscheck(False) for faster access\n",
            "warning: nsgrid_rsd.pyx:866:57: Use boundscheck(False) for faster access\n",
            "warning: nsgrid_rsd.pyx:867:57: Use boundscheck(False) for faster access\n",
            "warning: nsgrid_rsd.pyx:893:67: Use boundscheck(False) for faster access\n",
            "warning: nsgrid_rsd.pyx:893:106: Use boundscheck(False) for faster access\n",
            "warning: nsgrid_rsd.pyx:958:56: Use boundscheck(False) for faster access\n",
            "warning: nsgrid_rsd.pyx:959:56: Use boundscheck(False) for faster access\n",
            "warning: nsgrid_rsd.pyx:960:56: Use boundscheck(False) for faster access\n",
            "warning: nsgrid_rsd.pyx:988:66: Use boundscheck(False) for faster access\n",
            "warning: nsgrid_rsd.pyx:988:105: Use boundscheck(False) for faster access\n",
            "running build_ext\n",
            "building 'nsgrid_rsd' extension\n",
            "creating build\n",
            "creating build/temp.linux-x86_64-3.7\n",
            "x86_64-linux-gnu-gcc -pthread -Wno-unused-result -Wsign-compare -DNDEBUG -g -fwrapv -O2 -Wall -g -fdebug-prefix-map=/build/python3.7-Y7dWVB/python3.7-3.7.12=. -fstack-protector-strong -Wformat -Werror=format-security -g -fdebug-prefix-map=/build/python3.7-Y7dWVB/python3.7-3.7.12=. -fstack-protector-strong -Wformat -Werror=format-security -Wdate-time -D_FORTIFY_SOURCE=2 -fPIC -I/usr/local/lib/python3.7/dist-packages/numpy/core/include -I/usr/include/python3.7m -c nsgrid_rsd.cpp -o build/temp.linux-x86_64-3.7/nsgrid_rsd.o\n",
            "In file included from \u001b[01m\u001b[K/usr/local/lib/python3.7/dist-packages/numpy/core/include/numpy/ndarraytypes.h:1822:0\u001b[m\u001b[K,\n",
            "                 from \u001b[01m\u001b[K/usr/local/lib/python3.7/dist-packages/numpy/core/include/numpy/ndarrayobject.h:12\u001b[m\u001b[K,\n",
            "                 from \u001b[01m\u001b[K/usr/local/lib/python3.7/dist-packages/numpy/core/include/numpy/arrayobject.h:4\u001b[m\u001b[K,\n",
            "                 from \u001b[01m\u001b[Knsgrid_rsd.cpp:655\u001b[m\u001b[K:\n",
            "\u001b[01m\u001b[K/usr/local/lib/python3.7/dist-packages/numpy/core/include/numpy/npy_1_7_deprecated_api.h:17:2:\u001b[m\u001b[K \u001b[01;35m\u001b[Kwarning: \u001b[m\u001b[K#warning \"Using deprecated NumPy API, disable it with \" \"#define NPY_NO_DEPRECATED_API NPY_1_7_API_VERSION\" [\u001b[01;35m\u001b[K-Wcpp\u001b[m\u001b[K]\n",
            " #\u001b[01;35m\u001b[Kwarning\u001b[m\u001b[K \"Using deprecated NumPy API, disable it with \" \\\n",
            "  \u001b[01;35m\u001b[K^~~~~~~\u001b[m\u001b[K\n",
            "x86_64-linux-gnu-g++ -pthread -shared -Wl,-O1 -Wl,-Bsymbolic-functions -Wl,-Bsymbolic-functions -Wl,-z,relro -Wl,-Bsymbolic-functions -Wl,-z,relro -g -fdebug-prefix-map=/build/python3.7-Y7dWVB/python3.7-3.7.12=. -fstack-protector-strong -Wformat -Werror=format-security -Wdate-time -D_FORTIFY_SOURCE=2 build/temp.linux-x86_64-3.7/nsgrid_rsd.o -o /content/tpfinal/nsgrid_rsd.cpython-37m-x86_64-linux-gnu.so\n"
          ]
        }
      ]
    },
    {
      "cell_type": "code",
      "metadata": {
        "colab": {
          "base_uri": "https://localhost:8080/"
        },
        "id": "fB3gOkk42S_z",
        "outputId": "748a012c-d927-40bb-bac1-1726494f5609"
      },
      "source": [
        "!python3 prueba_prepare_train.py --path '/content/tpfinal' --out_name 'prueba' --cutoff 0.4 --max_neigh 30 --n_samples 2500\n"
      ],
      "execution_count": null,
      "outputs": [
        {
          "output_type": "stream",
          "name": "stdout",
          "text": [
            "Reading file: dump_lamelar.lammpstrj\n",
            "/usr/local/lib/python3.7/dist-packages/MDAnalysis/topology/LAMMPSParser.py:631: UserWarning: Guessed all Masses to 1.0\n",
            "  warnings.warn('Guessed all Masses to 1.0')\n",
            "Reading file: dump_hexagonal.lammpstrj\n",
            "Total number of available samples for class lamelar: 2505\n",
            "Total number of available samples for class hexagonal: 2505\n"
          ]
        }
      ]
    },
    {
      "cell_type": "code",
      "metadata": {
        "colab": {
          "base_uri": "https://localhost:8080/"
        },
        "id": "AxQR6ev-2KV1",
        "outputId": "5657f89a-98a4-4130-8795-860f5447b63c"
      },
      "source": [
        "!python3 train.py --dataset prueba_scaled_shuffled_equal_samples.npy --labels prueba_scaled_shuffled_equal_labels.npy --weights ./weights"
      ],
      "execution_count": 30,
      "outputs": [
        {
          "output_type": "stream",
          "name": "stdout",
          "text": [
            "loading numpy data...\n",
            "converting to DataContainer format...\n",
            "train shape: (4000, 30, 3)\n",
            "label shape: (4000, 2)\n",
            "test shape: (1000, 30, 3)\n",
            "label shape: (1000, 2)\n",
            "WARNING:tensorflow:From /usr/local/lib/python3.7/dist-packages/tensorflow/python/util/dispatch.py:206: calling dropout (from tensorflow.python.ops.nn_ops) with keep_prob is deprecated and will be removed in a future version.\n",
            "Instructions for updating:\n",
            "Please use `rate` instead of `keep_prob`. Rate should be set to `rate = 1 - keep_prob`.\n",
            "Epoch: 0001 cost= 0.553114170\n",
            "Epoch: 0002 cost= 0.400699427\n",
            "Epoch: 0003 cost= 0.368770828\n",
            "Epoch: 0004 cost= 0.361938812\n",
            "Epoch: 0005 cost= 0.324147637\n",
            "Epoch: 0006 cost= 0.330339923\n",
            "Epoch: 0007 cost= 0.327845721\n",
            "Epoch: 0008 cost= 0.319541513\n",
            "Epoch: 0009 cost= 0.302138345\n",
            "Epoch: 0010 cost= 0.306967684\n",
            "Epoch: 0011 cost= 0.307167194\n",
            "Epoch: 0012 cost= 0.299160957\n",
            "Epoch: 0013 cost= 0.288253543\n",
            "Epoch: 0014 cost= 0.283044558\n",
            "Epoch: 0015 cost= 0.284715531\n",
            "Epoch: 0016 cost= 0.263157360\n",
            "Epoch: 0017 cost= 0.269849938\n",
            "Epoch: 0018 cost= 0.259431904\n",
            "Epoch: 0019 cost= 0.253131666\n",
            "Epoch: 0020 cost= 0.252965822\n",
            "Epoch: 0021 cost= 0.246499073\n",
            "Epoch: 0022 cost= 0.249705833\n",
            "Epoch: 0023 cost= 0.244107564\n",
            "Epoch: 0024 cost= 0.232425817\n",
            "Epoch: 0025 cost= 0.229949413\n",
            "Epoch: 0026 cost= 0.221902520\n",
            "Epoch: 0027 cost= 0.220854439\n",
            "Epoch: 0028 cost= 0.223389915\n",
            "Epoch: 0029 cost= 0.208889330\n",
            "Epoch: 0030 cost= 0.215908785\n",
            "Epoch: 0031 cost= 0.203105823\n",
            "Epoch: 0032 cost= 0.216768426\n",
            "Epoch: 0033 cost= 0.194133229\n",
            "Epoch: 0034 cost= 0.202325388\n",
            "Epoch: 0035 cost= 0.201680713\n",
            "Epoch: 0036 cost= 0.194659197\n",
            "Epoch: 0037 cost= 0.192150939\n",
            "Epoch: 0038 cost= 0.185480889\n",
            "Epoch: 0039 cost= 0.200410961\n",
            "Epoch: 0040 cost= 0.172849376\n",
            "Epoch: 0041 cost= 0.205862866\n",
            "Epoch: 0042 cost= 0.188721317\n",
            "Epoch: 0043 cost= 0.179742206\n",
            "Epoch: 0044 cost= 0.174661969\n",
            "Epoch: 0045 cost= 0.164731907\n",
            "Epoch: 0046 cost= 0.176429999\n",
            "Epoch: 0047 cost= 0.176090463\n",
            "Epoch: 0048 cost= 0.178807056\n",
            "Epoch: 0049 cost= 0.178123954\n",
            "Epoch: 0050 cost= 0.176981580\n",
            "Epoch: 0051 cost= 0.172313769\n",
            "Epoch: 0052 cost= 0.171401933\n",
            "Epoch: 0053 cost= 0.163799649\n",
            "Epoch: 0054 cost= 0.162713044\n",
            "Epoch: 0055 cost= 0.164775722\n",
            "Epoch: 0056 cost= 0.169992238\n",
            "Epoch: 0057 cost= 0.175412279\n",
            "Epoch: 0058 cost= 0.162294689\n",
            "Epoch: 0059 cost= 0.156471969\n",
            "Epoch: 0060 cost= 0.154824883\n",
            "Epoch: 0061 cost= 0.153544538\n",
            "Epoch: 0062 cost= 0.157813489\n",
            "Epoch: 0063 cost= 0.159344310\n",
            "Epoch: 0064 cost= 0.140956395\n",
            "Epoch: 0065 cost= 0.158752128\n",
            "Epoch: 0066 cost= 0.162235328\n",
            "Epoch: 0067 cost= 0.149187376\n",
            "Epoch: 0068 cost= 0.153166363\n",
            "Epoch: 0069 cost= 0.143819156\n",
            "Epoch: 0070 cost= 0.132719516\n",
            "Epoch: 0071 cost= 0.145742550\n",
            "Epoch: 0072 cost= 0.148204696\n",
            "Epoch: 0073 cost= 0.141702014\n",
            "Epoch: 0074 cost= 0.139341437\n",
            "Epoch: 0075 cost= 0.129939776\n",
            "Epoch: 0076 cost= 0.132926450\n",
            "Epoch: 0077 cost= 0.136243478\n",
            "Epoch: 0078 cost= 0.136929254\n",
            "Epoch: 0079 cost= 0.147100299\n",
            "Epoch: 0080 cost= 0.145626316\n",
            "Epoch: 0081 cost= 0.142318038\n",
            "Epoch: 0082 cost= 0.129953948\n",
            "Epoch: 0083 cost= 0.141517284\n",
            "Epoch: 0084 cost= 0.126384999\n",
            "Epoch: 0085 cost= 0.132167007\n",
            "Epoch: 0086 cost= 0.128248551\n",
            "Epoch: 0087 cost= 0.127239986\n",
            "Epoch: 0088 cost= 0.130451239\n",
            "Epoch: 0089 cost= 0.136337556\n",
            "Epoch: 0090 cost= 0.116456568\n",
            "Epoch: 0091 cost= 0.128189649\n",
            "Epoch: 0092 cost= 0.128312981\n",
            "Epoch: 0093 cost= 0.128410795\n",
            "Epoch: 0094 cost= 0.128725496\n",
            "Epoch: 0095 cost= 0.127990442\n",
            "Epoch: 0096 cost= 0.119392108\n",
            "Epoch: 0097 cost= 0.121588405\n",
            "Epoch: 0098 cost= 0.120880905\n",
            "Epoch: 0099 cost= 0.114986320\n",
            "Epoch: 0100 cost= 0.117657238\n",
            "[[476   2]\n",
            " [ 18 464]]\n",
            "final accuracy: 0.9791666666666666\n"
          ]
        }
      ]
    },
    {
      "cell_type": "code",
      "metadata": {
        "id": "ik544Kr84GqK"
      },
      "source": [
        "from google.colab import drive\n",
        "drive.mount('/content/gdrive')"
      ],
      "execution_count": null,
      "outputs": []
    },
    {
      "cell_type": "code",
      "metadata": {
        "id": "RJqxB-DA4HZc",
        "outputId": "88d6724c-641a-4cf4-bf8a-a59ce0f1b04c",
        "colab": {
          "base_uri": "https://localhost:8080/"
        }
      },
      "source": [
        "!tar -xjvf \"/content/gdrive/MyDrive/AB_050quench.lammpstrj.tar.bz2\" -C \"/content/\"     #[run this cell to extract tar.bz2 files]"
      ],
      "execution_count": 31,
      "outputs": [
        {
          "output_type": "stream",
          "name": "stdout",
          "text": [
            "AB_050quench.lammpstrj\n"
          ]
        }
      ]
    },
    {
      "cell_type": "code",
      "metadata": {
        "id": "1WtUO5qn0XXk",
        "colab": {
          "base_uri": "https://localhost:8080/"
        },
        "outputId": "b68c6248-c46b-4a73-802f-9e9f71a96dd2"
      },
      "source": [
        "!python3 mda_cluster.py --weights weights --nclass 2 --trjpath /content/AB_050quench.lammpstrj --cutoff 0.4 --maxneigh 30 --outname example "
      ],
      "execution_count": null,
      "outputs": [
        {
          "output_type": "stream",
          "name": "stdout",
          "text": [
            "/usr/local/lib/python3.7/dist-packages/MDAnalysis/topology/LAMMPSParser.py:631: UserWarning: Guessed all Masses to 1.0\n",
            "  warnings.warn('Guessed all Masses to 1.0')\n",
            "Generating neighbor list\n",
            "Extracted all relevant information\n",
            "Frame 0, Shape sent to pointnet: (28752, 30, 3)\n",
            "WARNING:tensorflow:From /usr/local/lib/python3.7/dist-packages/tensorflow/python/util/dispatch.py:206: calling dropout (from tensorflow.python.ops.nn_ops) with keep_prob is deprecated and will be removed in a future version.\n",
            "Instructions for updating:\n",
            "Please use `rate` instead of `keep_prob`. Rate should be set to `rate = 1 - keep_prob`.\n",
            "Frame 0, Results returned from pointnet, shape (28752,)\n"
          ]
        }
      ]
    },
    {
      "cell_type": "code",
      "metadata": {
        "id": "_BnrWdp6K9Wh",
        "colab": {
          "base_uri": "https://localhost:8080/",
          "height": 16
        },
        "outputId": "00835efc-e547-49eb-b935-a6533e06b61a"
      },
      "source": [
        "from google.colab import files\n",
        "files.download('example_class.mda')\n",
        "files.download('example_summary.mda')"
      ],
      "execution_count": null,
      "outputs": [
        {
          "output_type": "display_data",
          "data": {
            "application/javascript": [
              "\n",
              "    async function download(id, filename, size) {\n",
              "      if (!google.colab.kernel.accessAllowed) {\n",
              "        return;\n",
              "      }\n",
              "      const div = document.createElement('div');\n",
              "      const label = document.createElement('label');\n",
              "      label.textContent = `Downloading \"${filename}\": `;\n",
              "      div.appendChild(label);\n",
              "      const progress = document.createElement('progress');\n",
              "      progress.max = size;\n",
              "      div.appendChild(progress);\n",
              "      document.body.appendChild(div);\n",
              "\n",
              "      const buffers = [];\n",
              "      let downloaded = 0;\n",
              "\n",
              "      const channel = await google.colab.kernel.comms.open(id);\n",
              "      // Send a message to notify the kernel that we're ready.\n",
              "      channel.send({})\n",
              "\n",
              "      for await (const message of channel.messages) {\n",
              "        // Send a message to notify the kernel that we're ready.\n",
              "        channel.send({})\n",
              "        if (message.buffers) {\n",
              "          for (const buffer of message.buffers) {\n",
              "            buffers.push(buffer);\n",
              "            downloaded += buffer.byteLength;\n",
              "            progress.value = downloaded;\n",
              "          }\n",
              "        }\n",
              "      }\n",
              "      const blob = new Blob(buffers, {type: 'application/binary'});\n",
              "      const a = document.createElement('a');\n",
              "      a.href = window.URL.createObjectURL(blob);\n",
              "      a.download = filename;\n",
              "      div.appendChild(a);\n",
              "      a.click();\n",
              "      div.remove();\n",
              "    }\n",
              "  "
            ],
            "text/plain": [
              "<IPython.core.display.Javascript object>"
            ]
          },
          "metadata": {}
        },
        {
          "output_type": "display_data",
          "data": {
            "application/javascript": [
              "download(\"download_369204e7-7458-498b-8d8a-7cb565bc6482\", \"example_class.mda\", 13879321)"
            ],
            "text/plain": [
              "<IPython.core.display.Javascript object>"
            ]
          },
          "metadata": {}
        },
        {
          "output_type": "display_data",
          "data": {
            "application/javascript": [
              "\n",
              "    async function download(id, filename, size) {\n",
              "      if (!google.colab.kernel.accessAllowed) {\n",
              "        return;\n",
              "      }\n",
              "      const div = document.createElement('div');\n",
              "      const label = document.createElement('label');\n",
              "      label.textContent = `Downloading \"${filename}\": `;\n",
              "      div.appendChild(label);\n",
              "      const progress = document.createElement('progress');\n",
              "      progress.max = size;\n",
              "      div.appendChild(progress);\n",
              "      document.body.appendChild(div);\n",
              "\n",
              "      const buffers = [];\n",
              "      let downloaded = 0;\n",
              "\n",
              "      const channel = await google.colab.kernel.comms.open(id);\n",
              "      // Send a message to notify the kernel that we're ready.\n",
              "      channel.send({})\n",
              "\n",
              "      for await (const message of channel.messages) {\n",
              "        // Send a message to notify the kernel that we're ready.\n",
              "        channel.send({})\n",
              "        if (message.buffers) {\n",
              "          for (const buffer of message.buffers) {\n",
              "            buffers.push(buffer);\n",
              "            downloaded += buffer.byteLength;\n",
              "            progress.value = downloaded;\n",
              "          }\n",
              "        }\n",
              "      }\n",
              "      const blob = new Blob(buffers, {type: 'application/binary'});\n",
              "      const a = document.createElement('a');\n",
              "      a.href = window.URL.createObjectURL(blob);\n",
              "      a.download = filename;\n",
              "      div.appendChild(a);\n",
              "      a.click();\n",
              "      div.remove();\n",
              "    }\n",
              "  "
            ],
            "text/plain": [
              "<IPython.core.display.Javascript object>"
            ]
          },
          "metadata": {}
        },
        {
          "output_type": "display_data",
          "data": {
            "application/javascript": [
              "download(\"download_60b99991-b5a0-446c-9989-7f6d0eadd0f3\", \"example_summary.mda\", 10334)"
            ],
            "text/plain": [
              "<IPython.core.display.Javascript object>"
            ]
          },
          "metadata": {}
        }
      ]
    },
    {
      "cell_type": "code",
      "metadata": {
        "id": "0R01XWcZbdsN"
      },
      "source": [
        "!rm -rf tpfinal"
      ],
      "execution_count": null,
      "outputs": []
    }
  ]
}