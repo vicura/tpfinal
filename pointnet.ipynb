{
  "nbformat": 4,
  "nbformat_minor": 0,
  "metadata": {
    "colab": {
      "name": "pointnet.ipynb",
      "provenance": [],
      "collapsed_sections": [],
      "authorship_tag": "ABX9TyMSOxge8fqe1Wk+yzcc/wXS",
      "include_colab_link": true
    },
    "kernelspec": {
      "name": "python3",
      "display_name": "Python 3"
    },
    "language_info": {
      "name": "python"
    }
  },
  "cells": [
    {
      "cell_type": "markdown",
      "metadata": {
        "id": "view-in-github",
        "colab_type": "text"
      },
      "source": [
        "<a href=\"https://colab.research.google.com/github/vicura/tpfinal/blob/master/pointnet.ipynb\" target=\"_parent\"><img src=\"https://colab.research.google.com/assets/colab-badge.svg\" alt=\"Open In Colab\"/></a>"
      ]
    },
    {
      "cell_type": "code",
      "metadata": {
        "colab": {
          "base_uri": "https://localhost:8080/"
        },
        "id": "ublNttBgwYn6",
        "outputId": "3c857d7a-329d-4d81-ef11-f413108699f0"
      },
      "source": [
        "!pip3 install pandas\n",
        "!pip3 install tqdm\n",
        "!pip3 install numpy\n",
        "!pip3 install opencv_python\n",
        "!pip3 install plyfile\n",
        "!pip3 install MDAnalysis\n",
        "!pip3 install networkx==2.3"
      ],
      "execution_count": 1,
      "outputs": [
        {
          "output_type": "stream",
          "name": "stdout",
          "text": [
            "Requirement already satisfied: pandas in /usr/local/lib/python3.7/dist-packages (1.1.5)\n",
            "Requirement already satisfied: pytz>=2017.2 in /usr/local/lib/python3.7/dist-packages (from pandas) (2018.9)\n",
            "Requirement already satisfied: python-dateutil>=2.7.3 in /usr/local/lib/python3.7/dist-packages (from pandas) (2.8.2)\n",
            "Requirement already satisfied: numpy>=1.15.4 in /usr/local/lib/python3.7/dist-packages (from pandas) (1.19.5)\n",
            "Requirement already satisfied: six>=1.5 in /usr/local/lib/python3.7/dist-packages (from python-dateutil>=2.7.3->pandas) (1.15.0)\n",
            "Requirement already satisfied: tqdm in /usr/local/lib/python3.7/dist-packages (4.62.3)\n",
            "Requirement already satisfied: numpy in /usr/local/lib/python3.7/dist-packages (1.19.5)\n",
            "Requirement already satisfied: opencv_python in /usr/local/lib/python3.7/dist-packages (4.1.2.30)\n",
            "Requirement already satisfied: numpy>=1.14.5 in /usr/local/lib/python3.7/dist-packages (from opencv_python) (1.19.5)\n",
            "Collecting plyfile\n",
            "  Downloading plyfile-0.7.4-py3-none-any.whl (39 kB)\n",
            "Requirement already satisfied: numpy>=1.8 in /usr/local/lib/python3.7/dist-packages (from plyfile) (1.19.5)\n",
            "Installing collected packages: plyfile\n",
            "Successfully installed plyfile-0.7.4\n",
            "Collecting MDAnalysis\n",
            "  Downloading MDAnalysis-2.0.0.tar.gz (3.4 MB)\n",
            "\u001b[K     |████████████████████████████████| 3.4 MB 25.7 MB/s \n",
            "\u001b[?25hRequirement already satisfied: numpy>=1.16.0 in /usr/local/lib/python3.7/dist-packages (from MDAnalysis) (1.19.5)\n",
            "Collecting biopython>=1.71\n",
            "  Downloading biopython-1.79-cp37-cp37m-manylinux_2_5_x86_64.manylinux1_x86_64.whl (2.3 MB)\n",
            "\u001b[K     |████████████████████████████████| 2.3 MB 37.5 MB/s \n",
            "\u001b[?25hRequirement already satisfied: networkx>=1.0 in /usr/local/lib/python3.7/dist-packages (from MDAnalysis) (2.6.3)\n",
            "Collecting GridDataFormats>=0.4.0\n",
            "  Downloading GridDataFormats-0.6.0-py2.py3-none-any.whl (2.0 MB)\n",
            "\u001b[K     |████████████████████████████████| 2.0 MB 42.4 MB/s \n",
            "\u001b[?25hCollecting mmtf-python>=1.0.0\n",
            "  Downloading mmtf_python-1.1.2-py2.py3-none-any.whl (21 kB)\n",
            "Requirement already satisfied: joblib>=0.12 in /usr/local/lib/python3.7/dist-packages (from MDAnalysis) (1.0.1)\n",
            "Requirement already satisfied: scipy>=1.0.0 in /usr/local/lib/python3.7/dist-packages (from MDAnalysis) (1.4.1)\n",
            "Requirement already satisfied: matplotlib>=1.5.1 in /usr/local/lib/python3.7/dist-packages (from MDAnalysis) (3.2.2)\n",
            "Requirement already satisfied: tqdm>=4.43.0 in /usr/local/lib/python3.7/dist-packages (from MDAnalysis) (4.62.3)\n",
            "Collecting threadpoolctl\n",
            "  Downloading threadpoolctl-3.0.0-py3-none-any.whl (14 kB)\n",
            "Collecting gsd>=1.4.0\n",
            "  Downloading gsd-2.4.2-cp37-cp37m-manylinux2010_x86_64.whl (334 kB)\n",
            "\u001b[K     |████████████████████████████████| 334 kB 46.7 MB/s \n",
            "\u001b[?25hRequirement already satisfied: six in /usr/local/lib/python3.7/dist-packages (from GridDataFormats>=0.4.0->MDAnalysis) (1.15.0)\n",
            "Requirement already satisfied: python-dateutil>=2.1 in /usr/local/lib/python3.7/dist-packages (from matplotlib>=1.5.1->MDAnalysis) (2.8.2)\n",
            "Requirement already satisfied: kiwisolver>=1.0.1 in /usr/local/lib/python3.7/dist-packages (from matplotlib>=1.5.1->MDAnalysis) (1.3.2)\n",
            "Requirement already satisfied: pyparsing!=2.0.4,!=2.1.2,!=2.1.6,>=2.0.1 in /usr/local/lib/python3.7/dist-packages (from matplotlib>=1.5.1->MDAnalysis) (2.4.7)\n",
            "Requirement already satisfied: cycler>=0.10 in /usr/local/lib/python3.7/dist-packages (from matplotlib>=1.5.1->MDAnalysis) (0.10.0)\n",
            "Requirement already satisfied: msgpack>=0.5.6 in /usr/local/lib/python3.7/dist-packages (from mmtf-python>=1.0.0->MDAnalysis) (1.0.2)\n",
            "Building wheels for collected packages: MDAnalysis\n",
            "  Building wheel for MDAnalysis (setup.py) ... \u001b[?25l\u001b[?25hdone\n",
            "  Created wheel for MDAnalysis: filename=MDAnalysis-2.0.0-cp37-cp37m-linux_x86_64.whl size=4486146 sha256=4f0c755de88c93e900519e79163e893208b48ad086819f3f840f83ee01bc3192\n",
            "  Stored in directory: /root/.cache/pip/wheels/e9/38/a1/b52afa08dcd5300512ec92a8878f48c3460f92a72745e057c1\n",
            "Successfully built MDAnalysis\n",
            "Installing collected packages: threadpoolctl, mmtf-python, gsd, GridDataFormats, biopython, MDAnalysis\n",
            "Successfully installed GridDataFormats-0.6.0 MDAnalysis-2.0.0 biopython-1.79 gsd-2.4.2 mmtf-python-1.1.2 threadpoolctl-3.0.0\n",
            "Collecting networkx==2.3\n",
            "  Downloading networkx-2.3.zip (1.7 MB)\n",
            "\u001b[K     |████████████████████████████████| 1.7 MB 39.0 MB/s \n",
            "\u001b[?25hRequirement already satisfied: decorator>=4.3.0 in /usr/local/lib/python3.7/dist-packages (from networkx==2.3) (4.4.2)\n",
            "Building wheels for collected packages: networkx\n",
            "  Building wheel for networkx (setup.py) ... \u001b[?25l\u001b[?25hdone\n",
            "  Created wheel for networkx: filename=networkx-2.3-py2.py3-none-any.whl size=1556009 sha256=699f09dbf88feb850d7576b2aa1ad663624a4e1d72314640da4381e358feb9f2\n",
            "  Stored in directory: /root/.cache/pip/wheels/44/e6/b8/4efaab31158e9e9ca9ed80b11f6b11130bac9a9672b3cbbeaf\n",
            "Successfully built networkx\n",
            "Installing collected packages: networkx\n",
            "  Attempting uninstall: networkx\n",
            "    Found existing installation: networkx 2.6.3\n",
            "    Uninstalling networkx-2.6.3:\n",
            "      Successfully uninstalled networkx-2.6.3\n",
            "\u001b[31mERROR: pip's dependency resolver does not currently take into account all the packages that are installed. This behaviour is the source of the following dependency conflicts.\n",
            "albumentations 0.1.12 requires imgaug<0.2.7,>=0.2.5, but you have imgaug 0.2.9 which is incompatible.\u001b[0m\n",
            "Successfully installed networkx-2.3\n"
          ]
        }
      ]
    },
    {
      "cell_type": "code",
      "metadata": {
        "colab": {
          "base_uri": "https://localhost:8080/"
        },
        "id": "EyyP3KBZ02PR",
        "outputId": "2a5c5af1-8958-4973-c74e-76defaae369d"
      },
      "source": [
        "!git clone https://github.com/vicura/tpfinal.git"
      ],
      "execution_count": 2,
      "outputs": [
        {
          "output_type": "stream",
          "name": "stdout",
          "text": [
            "Cloning into 'tpfinal'...\n",
            "remote: Enumerating objects: 1186, done.\u001b[K\n",
            "remote: Counting objects: 100% (1186/1186), done.\u001b[K\n",
            "remote: Compressing objects: 100% (1156/1156), done.\u001b[K\n",
            "remote: Total 1186 (delta 103), reused 1075 (delta 30), pack-reused 0\u001b[K\n",
            "Receiving objects: 100% (1186/1186), 82.25 MiB | 22.23 MiB/s, done.\n",
            "Resolving deltas: 100% (103/103), done.\n",
            "Checking out files: 100% (1027/1027), done.\n"
          ]
        }
      ]
    },
    {
      "cell_type": "code",
      "metadata": {
        "id": "cxlRdvCR1vdf"
      },
      "source": [
        "import numpy as np\n",
        "import matplotlib.pyplot as plt\n",
        "%matplotlib inline\n",
        "import pandas as pd\n",
        "import seaborn as sns\n",
        "from pathlib import Path\n",
        "import os\n",
        "import sys\n",
        "import glob\n",
        "import MDAnalysis as mda\n",
        "import argparse"
      ],
      "execution_count": 3,
      "outputs": []
    },
    {
      "cell_type": "code",
      "metadata": {
        "id": "a-Ol0pHV13L6"
      },
      "source": [
        "os.chdir('/content/tpfinal')"
      ],
      "execution_count": 4,
      "outputs": []
    },
    {
      "cell_type": "code",
      "metadata": {
        "colab": {
          "base_uri": "https://localhost:8080/"
        },
        "id": "V-rprOuw14vl",
        "outputId": "8b0a99a4-edf2-42c4-d4f3-b1a509422689"
      },
      "source": [
        "!python3 setup.py build_ext --inplace  "
      ],
      "execution_count": 5,
      "outputs": [
        {
          "output_type": "stream",
          "name": "stdout",
          "text": [
            "Compiling nsgrid_rsd.pyx because it changed.\n",
            "[1/1] Cythonizing nsgrid_rsd.pyx\n",
            "/usr/local/lib/python3.7/dist-packages/Cython/Compiler/Main.py:369: FutureWarning: Cython directive 'language_level' not set, using 2 for now (Py2). This will change in a later release! File: /content/tpfinal/nsgrid_rsd.pyx\n",
            "  tree = Parsing.p_module(s, pxd, full_module_name)\n",
            "warning: nsgrid_rsd.pyx:110:45: Use boundscheck(False) for faster access\n",
            "warning: nsgrid_rsd.pyx:116:26: Use boundscheck(False) for faster access\n",
            "warning: nsgrid_rsd.pyx:121:44: Use boundscheck(False) for faster access\n",
            "warning: nsgrid_rsd.pyx:129:77: Use boundscheck(False) for faster access\n",
            "warning: nsgrid_rsd.pyx:129:44: Use boundscheck(False) for faster access\n",
            "warning: nsgrid_rsd.pyx:130:53: Use boundscheck(False) for faster access\n",
            "warning: nsgrid_rsd.pyx:136:17: Use boundscheck(False) for faster access\n",
            "warning: nsgrid_rsd.pyx:137:14: Use boundscheck(False) for faster access\n",
            "warning: nsgrid_rsd.pyx:138:22: Use boundscheck(False) for faster access\n",
            "warning: nsgrid_rsd.pyx:140:22: Use boundscheck(False) for faster access\n",
            "warning: nsgrid_rsd.pyx:142:46: Use boundscheck(False) for faster access\n",
            "warning: nsgrid_rsd.pyx:142:24: Use boundscheck(False) for faster access\n",
            "warning: nsgrid_rsd.pyx:239:41: Use boundscheck(False) for faster access\n",
            "warning: nsgrid_rsd.pyx:241:43: Use boundscheck(False) for faster access\n",
            "warning: nsgrid_rsd.pyx:242:41: Use boundscheck(False) for faster access\n",
            "warning: nsgrid_rsd.pyx:244:43: Use boundscheck(False) for faster access\n",
            "warning: nsgrid_rsd.pyx:248:41: Use boundscheck(False) for faster access\n",
            "warning: nsgrid_rsd.pyx:249:39: Use boundscheck(False) for faster access\n",
            "warning: nsgrid_rsd.pyx:250:41: Use boundscheck(False) for faster access\n",
            "warning: nsgrid_rsd.pyx:251:39: Use boundscheck(False) for faster access\n",
            "warning: nsgrid_rsd.pyx:652:26: Use boundscheck(False) for faster access\n",
            "warning: nsgrid_rsd.pyx:657:53: Use boundscheck(False) for faster access\n",
            "warning: nsgrid_rsd.pyx:676:74: Use boundscheck(False) for faster access\n",
            "warning: nsgrid_rsd.pyx:677:26: Use boundscheck(False) for faster access\n",
            "warning: nsgrid_rsd.pyx:865:57: Use boundscheck(False) for faster access\n",
            "warning: nsgrid_rsd.pyx:866:57: Use boundscheck(False) for faster access\n",
            "warning: nsgrid_rsd.pyx:867:57: Use boundscheck(False) for faster access\n",
            "warning: nsgrid_rsd.pyx:893:67: Use boundscheck(False) for faster access\n",
            "warning: nsgrid_rsd.pyx:893:106: Use boundscheck(False) for faster access\n",
            "warning: nsgrid_rsd.pyx:958:56: Use boundscheck(False) for faster access\n",
            "warning: nsgrid_rsd.pyx:959:56: Use boundscheck(False) for faster access\n",
            "warning: nsgrid_rsd.pyx:960:56: Use boundscheck(False) for faster access\n",
            "warning: nsgrid_rsd.pyx:988:66: Use boundscheck(False) for faster access\n",
            "warning: nsgrid_rsd.pyx:988:105: Use boundscheck(False) for faster access\n",
            "running build_ext\n",
            "building 'nsgrid_rsd' extension\n",
            "creating build\n",
            "creating build/temp.linux-x86_64-3.7\n",
            "x86_64-linux-gnu-gcc -pthread -Wno-unused-result -Wsign-compare -DNDEBUG -g -fwrapv -O2 -Wall -g -fdebug-prefix-map=/build/python3.7-Y7dWVB/python3.7-3.7.12=. -fstack-protector-strong -Wformat -Werror=format-security -g -fdebug-prefix-map=/build/python3.7-Y7dWVB/python3.7-3.7.12=. -fstack-protector-strong -Wformat -Werror=format-security -Wdate-time -D_FORTIFY_SOURCE=2 -fPIC -I/usr/local/lib/python3.7/dist-packages/numpy/core/include -I/usr/include/python3.7m -c nsgrid_rsd.cpp -o build/temp.linux-x86_64-3.7/nsgrid_rsd.o\n",
            "In file included from \u001b[01m\u001b[K/usr/local/lib/python3.7/dist-packages/numpy/core/include/numpy/ndarraytypes.h:1822:0\u001b[m\u001b[K,\n",
            "                 from \u001b[01m\u001b[K/usr/local/lib/python3.7/dist-packages/numpy/core/include/numpy/ndarrayobject.h:12\u001b[m\u001b[K,\n",
            "                 from \u001b[01m\u001b[K/usr/local/lib/python3.7/dist-packages/numpy/core/include/numpy/arrayobject.h:4\u001b[m\u001b[K,\n",
            "                 from \u001b[01m\u001b[Knsgrid_rsd.cpp:655\u001b[m\u001b[K:\n",
            "\u001b[01m\u001b[K/usr/local/lib/python3.7/dist-packages/numpy/core/include/numpy/npy_1_7_deprecated_api.h:17:2:\u001b[m\u001b[K \u001b[01;35m\u001b[Kwarning: \u001b[m\u001b[K#warning \"Using deprecated NumPy API, disable it with \" \"#define NPY_NO_DEPRECATED_API NPY_1_7_API_VERSION\" [\u001b[01;35m\u001b[K-Wcpp\u001b[m\u001b[K]\n",
            " #\u001b[01;35m\u001b[Kwarning\u001b[m\u001b[K \"Using deprecated NumPy API, disable it with \" \\\n",
            "  \u001b[01;35m\u001b[K^~~~~~~\u001b[m\u001b[K\n",
            "x86_64-linux-gnu-g++ -pthread -shared -Wl,-O1 -Wl,-Bsymbolic-functions -Wl,-Bsymbolic-functions -Wl,-z,relro -Wl,-Bsymbolic-functions -Wl,-z,relro -g -fdebug-prefix-map=/build/python3.7-Y7dWVB/python3.7-3.7.12=. -fstack-protector-strong -Wformat -Werror=format-security -Wdate-time -D_FORTIFY_SOURCE=2 build/temp.linux-x86_64-3.7/nsgrid_rsd.o -o /content/tpfinal/nsgrid_rsd.cpython-37m-x86_64-linux-gnu.so\n"
          ]
        }
      ]
    },
    {
      "cell_type": "code",
      "metadata": {
        "colab": {
          "base_uri": "https://localhost:8080/"
        },
        "id": "fB3gOkk42S_z",
        "outputId": "ae9d314b-77df-41c2-d5ce-ef36ffd07faf"
      },
      "source": [
        "!python3 prueba_prepare_train.py --path '/content/tpfinal' --out_name 'prueba' --cutoff 0.4 --max_neigh 30 --n_samples 2500\n"
      ],
      "execution_count": 6,
      "outputs": [
        {
          "output_type": "stream",
          "name": "stdout",
          "text": [
            "Reading file: dump_hexagonal.lammpstrj\n",
            "/usr/local/lib/python3.7/dist-packages/MDAnalysis/topology/LAMMPSParser.py:631: UserWarning: Guessed all Masses to 1.0\n",
            "  warnings.warn('Guessed all Masses to 1.0')\n",
            "Reading file: dump_lamelar.lammpstrj\n",
            "Total number of available samples for class lamelar: 2505\n",
            "Total number of available samples for class hexagonal: 2505\n",
            "Mean nneigh: 474.820559\n",
            "Stdev nneigh: 175.512863\n"
          ]
        }
      ]
    },
    {
      "cell_type": "code",
      "metadata": {
        "colab": {
          "base_uri": "https://localhost:8080/"
        },
        "id": "AxQR6ev-2KV1",
        "outputId": "f0af3504-c2c0-4c8d-de5a-bb258f64b94a"
      },
      "source": [
        "!python3 train.py --dataset prueba_scaled_shuffled_equal_samples.npy --labels prueba_scaled_shuffled_equal_labels.npy --weights ./weights"
      ],
      "execution_count": 7,
      "outputs": [
        {
          "output_type": "stream",
          "name": "stdout",
          "text": [
            "creating weight directory ./weights\n",
            "loading numpy data...\n",
            "converting to DataContainer format...\n",
            "train shape: (4000, 30, 3)\n",
            "label shape: (4000, 2)\n",
            "test shape: (1000, 30, 3)\n",
            "label shape: (1000, 2)\n",
            "WARNING:tensorflow:From /usr/local/lib/python3.7/dist-packages/tensorflow/python/util/dispatch.py:206: calling dropout (from tensorflow.python.ops.nn_ops) with keep_prob is deprecated and will be removed in a future version.\n",
            "Instructions for updating:\n",
            "Please use `rate` instead of `keep_prob`. Rate should be set to `rate = 1 - keep_prob`.\n",
            "Epoch: 0001 cost= 0.526069998\n",
            "Epoch: 0002 cost= 0.439172995\n",
            "Epoch: 0003 cost= 0.375228967\n",
            "Epoch: 0004 cost= 0.369605498\n",
            "Epoch: 0005 cost= 0.343849132\n",
            "Epoch: 0006 cost= 0.333785526\n",
            "Epoch: 0007 cost= 0.337197119\n",
            "Epoch: 0008 cost= 0.326222737\n",
            "Epoch: 0009 cost= 0.319967887\n",
            "Epoch: 0010 cost= 0.321346366\n",
            "Epoch: 0011 cost= 0.311085496\n",
            "Epoch: 0012 cost= 0.316672449\n",
            "Epoch: 0013 cost= 0.310226751\n",
            "Epoch: 0014 cost= 0.296114606\n",
            "Epoch: 0015 cost= 0.290303183\n",
            "Epoch: 0016 cost= 0.298696590\n",
            "Epoch: 0017 cost= 0.291586546\n",
            "Epoch: 0018 cost= 0.273778061\n",
            "Epoch: 0019 cost= 0.282497668\n",
            "Epoch: 0020 cost= 0.266459627\n",
            "Epoch: 0021 cost= 0.255591782\n",
            "Epoch: 0022 cost= 0.247721640\n",
            "Epoch: 0023 cost= 0.252786559\n",
            "Epoch: 0024 cost= 0.240223939\n",
            "Epoch: 0025 cost= 0.246354248\n",
            "Epoch: 0026 cost= 0.235535181\n",
            "Epoch: 0027 cost= 0.231211119\n",
            "Epoch: 0028 cost= 0.227085374\n",
            "Epoch: 0029 cost= 0.229932620\n",
            "Epoch: 0030 cost= 0.217808293\n",
            "Epoch: 0031 cost= 0.217066177\n",
            "Epoch: 0032 cost= 0.213886622\n",
            "Epoch: 0033 cost= 0.197877915\n",
            "Epoch: 0034 cost= 0.206948009\n",
            "Epoch: 0035 cost= 0.207457599\n",
            "Epoch: 0036 cost= 0.205854790\n",
            "Epoch: 0037 cost= 0.196460852\n",
            "Epoch: 0038 cost= 0.200618079\n",
            "Epoch: 0039 cost= 0.192644279\n",
            "Epoch: 0040 cost= 0.206641377\n",
            "Epoch: 0041 cost= 0.202987201\n",
            "Epoch: 0042 cost= 0.195451105\n",
            "Epoch: 0043 cost= 0.195535077\n",
            "Epoch: 0044 cost= 0.203371882\n",
            "Epoch: 0045 cost= 0.191966912\n",
            "Epoch: 0046 cost= 0.198180006\n",
            "Epoch: 0047 cost= 0.176833176\n",
            "Epoch: 0048 cost= 0.171661086\n",
            "Epoch: 0049 cost= 0.180988402\n",
            "Epoch: 0050 cost= 0.179131359\n",
            "Epoch: 0051 cost= 0.184767130\n",
            "Epoch: 0052 cost= 0.189733155\n",
            "Epoch: 0053 cost= 0.177309120\n",
            "Epoch: 0054 cost= 0.173763431\n",
            "Epoch: 0055 cost= 0.177551163\n",
            "Epoch: 0056 cost= 0.176619983\n",
            "Epoch: 0057 cost= 0.175834625\n",
            "Epoch: 0058 cost= 0.164923115\n",
            "Epoch: 0059 cost= 0.170581714\n",
            "Epoch: 0060 cost= 0.170556463\n",
            "Epoch: 0061 cost= 0.174732675\n",
            "Epoch: 0062 cost= 0.163700683\n",
            "Epoch: 0063 cost= 0.175078004\n",
            "Epoch: 0064 cost= 0.176560521\n",
            "Epoch: 0065 cost= 0.165096352\n",
            "Epoch: 0066 cost= 0.162661949\n",
            "Epoch: 0067 cost= 0.167257287\n",
            "Epoch: 0068 cost= 0.156290779\n",
            "Epoch: 0069 cost= 0.156947331\n",
            "Epoch: 0070 cost= 0.158342507\n",
            "Epoch: 0071 cost= 0.156512943\n",
            "Epoch: 0072 cost= 0.161645256\n",
            "Epoch: 0073 cost= 0.156714459\n",
            "Epoch: 0074 cost= 0.144501692\n",
            "Epoch: 0075 cost= 0.158337287\n",
            "Epoch: 0076 cost= 0.155869821\n",
            "Epoch: 0077 cost= 0.158928898\n",
            "Epoch: 0078 cost= 0.153379084\n",
            "Epoch: 0079 cost= 0.148874184\n",
            "Epoch: 0080 cost= 0.142012536\n",
            "Epoch: 0081 cost= 0.152878433\n",
            "Epoch: 0082 cost= 0.152639998\n",
            "Epoch: 0083 cost= 0.146723743\n",
            "Epoch: 0084 cost= 0.144308131\n",
            "Epoch: 0085 cost= 0.149560508\n",
            "Epoch: 0086 cost= 0.151517830\n",
            "Epoch: 0087 cost= 0.138493794\n",
            "Epoch: 0088 cost= 0.142910430\n",
            "Epoch: 0089 cost= 0.137528220\n",
            "Epoch: 0090 cost= 0.141255168\n",
            "Epoch: 0091 cost= 0.138206195\n",
            "Epoch: 0092 cost= 0.145991578\n",
            "Epoch: 0093 cost= 0.133753371\n",
            "Epoch: 0094 cost= 0.144594694\n",
            "Epoch: 0095 cost= 0.141998730\n",
            "Epoch: 0096 cost= 0.145043975\n",
            "Epoch: 0097 cost= 0.143087732\n",
            "Epoch: 0098 cost= 0.126939289\n",
            "Epoch: 0099 cost= 0.149161157\n",
            "Epoch: 0100 cost= 0.127982064\n",
            "[[462  19]\n",
            " [  5 474]]\n",
            "final accuracy: 0.975\n"
          ]
        }
      ]
    },
    {
      "cell_type": "code",
      "metadata": {
        "id": "1WtUO5qn0XXk",
        "colab": {
          "base_uri": "https://localhost:8080/"
        },
        "outputId": "e30ec227-9a10-49b0-804a-58220369a525"
      },
      "source": [
        "!python3 mda_cluster.py --weights weights --nclass 2 --trjpath '/content/conf1originalbusquedadetdetransicioNcorto.lammpstrj' --cutoff 0.4 --maxneigh 30 --outname example "
      ],
      "execution_count": 9,
      "outputs": [
        {
          "output_type": "stream",
          "name": "stdout",
          "text": [
            "/usr/local/lib/python3.7/dist-packages/MDAnalysis/topology/LAMMPSParser.py:631: UserWarning: Guessed all Masses to 1.0\n",
            "  warnings.warn('Guessed all Masses to 1.0')\n",
            "Generating neighbor list\n",
            "Extracted all relevant information\n",
            "Frame 0, Shape sent to pointnet: (2048, 30, 3)\n",
            "WARNING:tensorflow:From /usr/local/lib/python3.7/dist-packages/tensorflow/python/util/dispatch.py:206: calling dropout (from tensorflow.python.ops.nn_ops) with keep_prob is deprecated and will be removed in a future version.\n",
            "Instructions for updating:\n",
            "Please use `rate` instead of `keep_prob`. Rate should be set to `rate = 1 - keep_prob`.\n",
            "Frame 0, Results returned from pointnet, shape (2048,)\n",
            "/usr/local/lib/python3.7/dist-packages/MDAnalysis/coordinates/base.py:892: UserWarning: Reader has no dt information, set to 1.0 ps\n",
            "  warnings.warn(\"Reader has no dt information, set to 1.0 ps\")\n",
            "Generating neighbor list\n",
            "Extracted all relevant information\n",
            "Frame 1, Shape sent to pointnet: (2048, 30, 3)\n",
            "Frame 1, Results returned from pointnet, shape (2048,)\n",
            "Generating neighbor list\n",
            "Extracted all relevant information\n",
            "Frame 2, Shape sent to pointnet: (2048, 30, 3)\n",
            "Frame 2, Results returned from pointnet, shape (2048,)\n",
            "Generating neighbor list\n",
            "Extracted all relevant information\n",
            "Frame 3, Shape sent to pointnet: (2048, 30, 3)\n",
            "Frame 3, Results returned from pointnet, shape (2048,)\n",
            "Generating neighbor list\n",
            "Extracted all relevant information\n",
            "Frame 4, Shape sent to pointnet: (2048, 30, 3)\n",
            "Frame 4, Results returned from pointnet, shape (2048,)\n",
            "Generating neighbor list\n",
            "Extracted all relevant information\n",
            "Frame 5, Shape sent to pointnet: (2048, 30, 3)\n",
            "Frame 5, Results returned from pointnet, shape (2048,)\n",
            "Generating neighbor list\n",
            "Extracted all relevant information\n",
            "Frame 6, Shape sent to pointnet: (2048, 30, 3)\n",
            "Frame 6, Results returned from pointnet, shape (2048,)\n",
            "Generating neighbor list\n",
            "Extracted all relevant information\n",
            "Frame 7, Shape sent to pointnet: (2048, 30, 3)\n",
            "Frame 7, Results returned from pointnet, shape (2048,)\n",
            "Generating neighbor list\n",
            "Extracted all relevant information\n",
            "Frame 8, Shape sent to pointnet: (2048, 30, 3)\n",
            "Frame 8, Results returned from pointnet, shape (2048,)\n",
            "Generating neighbor list\n",
            "Extracted all relevant information\n",
            "Frame 9, Shape sent to pointnet: (2048, 30, 3)\n",
            "Frame 9, Results returned from pointnet, shape (2048,)\n",
            "Generating neighbor list\n",
            "Extracted all relevant information\n",
            "Frame 10, Shape sent to pointnet: (2048, 30, 3)\n",
            "Frame 10, Results returned from pointnet, shape (2048,)\n",
            "Generating neighbor list\n",
            "Extracted all relevant information\n",
            "Frame 11, Shape sent to pointnet: (2048, 30, 3)\n",
            "Frame 11, Results returned from pointnet, shape (2048,)\n",
            "Generating neighbor list\n",
            "Extracted all relevant information\n",
            "Frame 12, Shape sent to pointnet: (2048, 30, 3)\n",
            "Frame 12, Results returned from pointnet, shape (2048,)\n",
            "Generating neighbor list\n",
            "Extracted all relevant information\n",
            "Frame 13, Shape sent to pointnet: (2048, 30, 3)\n",
            "Frame 13, Results returned from pointnet, shape (2048,)\n",
            "Generating neighbor list\n",
            "Extracted all relevant information\n",
            "Frame 14, Shape sent to pointnet: (2048, 30, 3)\n",
            "Frame 14, Results returned from pointnet, shape (2048,)\n",
            "Generating neighbor list\n",
            "Extracted all relevant information\n",
            "Frame 15, Shape sent to pointnet: (2048, 30, 3)\n",
            "Frame 15, Results returned from pointnet, shape (2048,)\n",
            "Generating neighbor list\n",
            "Extracted all relevant information\n",
            "Frame 16, Shape sent to pointnet: (2048, 30, 3)\n",
            "Frame 16, Results returned from pointnet, shape (2048,)\n",
            "Generating neighbor list\n",
            "Extracted all relevant information\n",
            "Frame 17, Shape sent to pointnet: (2048, 30, 3)\n",
            "Frame 17, Results returned from pointnet, shape (2048,)\n",
            "Generating neighbor list\n",
            "Extracted all relevant information\n",
            "Frame 18, Shape sent to pointnet: (2048, 30, 3)\n",
            "Frame 18, Results returned from pointnet, shape (2048,)\n",
            "Generating neighbor list\n",
            "Extracted all relevant information\n",
            "Frame 19, Shape sent to pointnet: (2048, 30, 3)\n",
            "Frame 19, Results returned from pointnet, shape (2048,)\n",
            "Generating neighbor list\n",
            "Extracted all relevant information\n",
            "Frame 20, Shape sent to pointnet: (2048, 30, 3)\n",
            "Frame 20, Results returned from pointnet, shape (2048,)\n",
            "Generating neighbor list\n",
            "Extracted all relevant information\n",
            "Frame 21, Shape sent to pointnet: (2048, 30, 3)\n",
            "Frame 21, Results returned from pointnet, shape (2048,)\n",
            "Generating neighbor list\n",
            "Extracted all relevant information\n",
            "Frame 22, Shape sent to pointnet: (2048, 30, 3)\n",
            "Frame 22, Results returned from pointnet, shape (2048,)\n",
            "Generating neighbor list\n",
            "Extracted all relevant information\n",
            "Frame 23, Shape sent to pointnet: (2048, 30, 3)\n",
            "Frame 23, Results returned from pointnet, shape (2048,)\n",
            "Generating neighbor list\n",
            "Extracted all relevant information\n",
            "Frame 24, Shape sent to pointnet: (2048, 30, 3)\n",
            "Frame 24, Results returned from pointnet, shape (2048,)\n",
            "Generating neighbor list\n",
            "Extracted all relevant information\n",
            "Frame 25, Shape sent to pointnet: (2048, 30, 3)\n",
            "Frame 25, Results returned from pointnet, shape (2048,)\n",
            "Generating neighbor list\n",
            "Extracted all relevant information\n",
            "Frame 26, Shape sent to pointnet: (2048, 30, 3)\n",
            "Frame 26, Results returned from pointnet, shape (2048,)\n",
            "Generating neighbor list\n",
            "Extracted all relevant information\n",
            "Frame 27, Shape sent to pointnet: (2048, 30, 3)\n",
            "Frame 27, Results returned from pointnet, shape (2048,)\n",
            "Generating neighbor list\n",
            "Extracted all relevant information\n",
            "Frame 28, Shape sent to pointnet: (2048, 30, 3)\n",
            "Frame 28, Results returned from pointnet, shape (2048,)\n",
            "Generating neighbor list\n",
            "Extracted all relevant information\n",
            "Frame 29, Shape sent to pointnet: (2048, 30, 3)\n",
            "Frame 29, Results returned from pointnet, shape (2048,)\n",
            "Generating neighbor list\n",
            "Extracted all relevant information\n",
            "Frame 30, Shape sent to pointnet: (2048, 30, 3)\n",
            "Frame 30, Results returned from pointnet, shape (2048,)\n",
            "Generating neighbor list\n",
            "Extracted all relevant information\n",
            "Frame 31, Shape sent to pointnet: (2048, 30, 3)\n",
            "Frame 31, Results returned from pointnet, shape (2048,)\n",
            "Generating neighbor list\n",
            "Extracted all relevant information\n",
            "Frame 32, Shape sent to pointnet: (2048, 30, 3)\n",
            "Frame 32, Results returned from pointnet, shape (2048,)\n"
          ]
        }
      ]
    },
    {
      "cell_type": "code",
      "metadata": {
        "id": "_BnrWdp6K9Wh"
      },
      "source": [
        "files.download('example_class.mda', 'example_summary.mda')"
      ],
      "execution_count": null,
      "outputs": []
    }
  ]
}